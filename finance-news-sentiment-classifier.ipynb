{
 "cells": [
  {
   "cell_type": "code",
   "execution_count": 1,
   "id": "ded30201",
   "metadata": {
    "execution": {
     "iopub.execute_input": "2024-08-31T12:51:37.092376Z",
     "iopub.status.busy": "2024-08-31T12:51:37.092041Z",
     "iopub.status.idle": "2024-08-31T12:51:37.096787Z",
     "shell.execute_reply": "2024-08-31T12:51:37.095875Z"
    },
    "papermill": {
     "duration": 0.016922,
     "end_time": "2024-08-31T12:51:37.098862",
     "exception": false,
     "start_time": "2024-08-31T12:51:37.081940",
     "status": "completed"
    },
    "tags": []
   },
   "outputs": [],
   "source": [
    "# TODO:\n",
    "# - Handle emojis\n",
    "# - Handle special characters (display '&' instead of \"&amp;\")\n",
    "# - Remove HTML tags (like \"<br>\")\n",
    "# - Remove duplicates in text\n",
    "# - Remove empty/NaN/null values\n",
    "# - Translate text to english\n",
    "# - Add confusion matrix"
   ]
  },
  {
   "cell_type": "markdown",
   "id": "26e46592",
   "metadata": {
    "papermill": {
     "duration": 0.007952,
     "end_time": "2024-08-31T12:51:37.115365",
     "exception": false,
     "start_time": "2024-08-31T12:51:37.107413",
     "status": "completed"
    },
    "tags": []
   },
   "source": [
    "# Finance News Sentiments Classifier"
   ]
  },
  {
   "cell_type": "markdown",
   "id": "a132df38",
   "metadata": {
    "papermill": {
     "duration": 0.00847,
     "end_time": "2024-08-31T12:51:37.132046",
     "exception": false,
     "start_time": "2024-08-31T12:51:37.123576",
     "status": "completed"
    },
    "tags": []
   },
   "source": [
    "## Requirements"
   ]
  },
  {
   "cell_type": "code",
   "execution_count": 2,
   "id": "a0f60e9e",
   "metadata": {
    "execution": {
     "iopub.execute_input": "2024-08-31T12:51:37.149531Z",
     "iopub.status.busy": "2024-08-31T12:51:37.149210Z",
     "iopub.status.idle": "2024-08-31T12:53:07.293185Z",
     "shell.execute_reply": "2024-08-31T12:53:07.292187Z"
    },
    "papermill": {
     "duration": 90.15528,
     "end_time": "2024-08-31T12:53:07.295555",
     "exception": false,
     "start_time": "2024-08-31T12:51:37.140275",
     "status": "completed"
    },
    "tags": []
   },
   "outputs": [
    {
     "name": "stdout",
     "output_type": "stream",
     "text": [
      "\r\n",
      "\r\n",
      "\r\n",
      "The following additional packages will be installed:\r\n",
      "  libgail-common libgail18 libgtk2.0-0 libgtk2.0-bin libgtk2.0-common\r\n",
      "  libice-dev libpthread-stubs0-dev librsvg2-common libsm-dev libx11-dev\r\n",
      "  libxau-dev libxcb1-dev libxdmcp-dev libxt-dev openjdk-8-jdk-headless\r\n",
      "  openjdk-8-jre openjdk-8-jre-headless x11proto-dev xorg-sgml-doctools\r\n",
      "  xtrans-dev\r\n",
      "Suggested packages:\r\n",
      "  gvfs libice-doc libsm-doc libx11-doc libxcb-doc libxt-doc openjdk-8-demo\r\n",
      "  openjdk-8-source visualvm libnss-mdns fonts-nanum fonts-ipafont-gothic\r\n",
      "  fonts-ipafont-mincho fonts-wqy-microhei fonts-wqy-zenhei fonts-indic\r\n",
      "The following NEW packages will be installed:\r\n",
      "  libgail-common libgail18 libgtk2.0-0 libgtk2.0-bin libgtk2.0-common\r\n",
      "  libice-dev libpthread-stubs0-dev librsvg2-common libsm-dev libx11-dev\r\n",
      "  libxau-dev libxcb1-dev libxdmcp-dev libxt-dev openjdk-8-jdk\r\n",
      "  openjdk-8-jdk-headless openjdk-8-jre openjdk-8-jre-headless x11proto-dev\r\n",
      "  xorg-sgml-doctools xtrans-dev\r\n",
      "0 upgraded, 21 newly installed, 0 to remove and 39 not upgraded.\r\n",
      "Need to get 48.1 MB of archives.\r\n",
      "After this operation, 163 MB of additional disk space will be used.\r\n",
      "Get:1 http://archive.ubuntu.com/ubuntu jammy-updates/main amd64 libgtk2.0-common all 2.24.33-2ubuntu2.1 [125 kB]\r\n",
      "Get:2 http://archive.ubuntu.com/ubuntu jammy-updates/main amd64 libgtk2.0-0 amd64 2.24.33-2ubuntu2.1 [2038 kB]\r\n",
      "Get:3 http://archive.ubuntu.com/ubuntu jammy-updates/main amd64 libgail18 amd64 2.24.33-2ubuntu2.1 [15.9 kB]\r\n",
      "Get:4 http://archive.ubuntu.com/ubuntu jammy-updates/main amd64 libgail-common amd64 2.24.33-2ubuntu2.1 [132 kB]\r\n",
      "Get:5 http://archive.ubuntu.com/ubuntu jammy-updates/main amd64 libgtk2.0-bin amd64 2.24.33-2ubuntu2.1 [7936 B]\r\n",
      "Get:6 http://archive.ubuntu.com/ubuntu jammy/main amd64 xorg-sgml-doctools all 1:1.11-1.1 [10.9 kB]\r\n",
      "Get:7 http://archive.ubuntu.com/ubuntu jammy/main amd64 x11proto-dev all 2021.5-1 [604 kB]\r\n",
      "Get:8 http://archive.ubuntu.com/ubuntu jammy/main amd64 libice-dev amd64 2:1.0.10-1build2 [51.4 kB]\r\n",
      "Get:9 http://archive.ubuntu.com/ubuntu jammy/main amd64 libpthread-stubs0-dev amd64 0.4-1build2 [5516 B]\r\n",
      "Get:10 http://archive.ubuntu.com/ubuntu jammy-updates/main amd64 librsvg2-common amd64 2.52.5+dfsg-3ubuntu0.2 [17.7 kB]\r\n",
      "Get:11 http://archive.ubuntu.com/ubuntu jammy/main amd64 libsm-dev amd64 2:1.2.3-1build2 [18.1 kB]\r\n",
      "Get:12 http://archive.ubuntu.com/ubuntu jammy/main amd64 libxau-dev amd64 1:1.0.9-1build5 [9724 B]\r\n",
      "Get:13 http://archive.ubuntu.com/ubuntu jammy/main amd64 libxdmcp-dev amd64 1:1.1.3-0ubuntu5 [26.5 kB]\r\n",
      "Get:14 http://archive.ubuntu.com/ubuntu jammy/main amd64 xtrans-dev all 1.4.0-1 [68.9 kB]\r\n",
      "Get:15 http://archive.ubuntu.com/ubuntu jammy/main amd64 libxcb1-dev amd64 1.14-3ubuntu3 [86.5 kB]\r\n",
      "Get:16 http://archive.ubuntu.com/ubuntu jammy-updates/main amd64 libx11-dev amd64 2:1.7.5-1ubuntu0.3 [744 kB]\r\n",
      "Get:17 http://archive.ubuntu.com/ubuntu jammy/main amd64 libxt-dev amd64 1:1.2.1-1 [396 kB]\r\n",
      "Get:18 http://archive.ubuntu.com/ubuntu jammy-updates/universe amd64 openjdk-8-jre-headless amd64 8u422-b05-1~22.04 [30.8 MB]\r\n",
      "Get:19 http://archive.ubuntu.com/ubuntu jammy-updates/universe amd64 openjdk-8-jre amd64 8u422-b05-1~22.04 [75.5 kB]\r\n",
      "Get:20 http://archive.ubuntu.com/ubuntu jammy-updates/universe amd64 openjdk-8-jdk-headless amd64 8u422-b05-1~22.04 [8843 kB]\r\n",
      "Get:21 http://archive.ubuntu.com/ubuntu jammy-updates/universe amd64 openjdk-8-jdk amd64 8u422-b05-1~22.04 [4012 kB]\r\n",
      "Fetched 48.1 MB in 1s (78.9 MB/s)\r\n",
      "\n",
      "\u001b7\u001b[0;23r\u001b8\u001b[1ASelecting previously unselected package libgtk2.0-common.\r\n",
      "(Reading database ... 123110 files and directories currently installed.)\r\n",
      "Preparing to unpack .../00-libgtk2.0-common_2.24.33-2ubuntu2.1_all.deb ...\r\n",
      "\u001b7\u001b[24;0f\u001b[42m\u001b[30mProgress: [  0%]\u001b[49m\u001b[39m [..........................................................] \u001b8\u001b7\u001b[24;0f\u001b[42m\u001b[30mProgress: [  1%]\u001b[49m\u001b[39m [..........................................................] \u001b8Unpacking libgtk2.0-common (2.24.33-2ubuntu2.1) ...\r\n",
      "\u001b7\u001b[24;0f\u001b[42m\u001b[30mProgress: [  2%]\u001b[49m\u001b[39m [#.........................................................] \u001b8Selecting previously unselected package libgtk2.0-0:amd64.\r\n",
      "Preparing to unpack .../01-libgtk2.0-0_2.24.33-2ubuntu2.1_amd64.deb ...\r\n",
      "\u001b7\u001b[24;0f\u001b[42m\u001b[30mProgress: [  4%]\u001b[49m\u001b[39m [##........................................................] \u001b8Unpacking libgtk2.0-0:amd64 (2.24.33-2ubuntu2.1) ...\r\n",
      "\u001b7\u001b[24;0f\u001b[42m\u001b[30mProgress: [  5%]\u001b[49m\u001b[39m [##........................................................] \u001b8Selecting previously unselected package libgail18:amd64.\r\n",
      "Preparing to unpack .../02-libgail18_2.24.33-2ubuntu2.1_amd64.deb ...\r\n",
      "\u001b7\u001b[24;0f\u001b[42m\u001b[30mProgress: [  6%]\u001b[49m\u001b[39m [###.......................................................] \u001b8Unpacking libgail18:amd64 (2.24.33-2ubuntu2.1) ...\r\n",
      "\u001b7\u001b[24;0f\u001b[42m\u001b[30mProgress: [  7%]\u001b[49m\u001b[39m [####......................................................] \u001b8Selecting previously unselected package libgail-common:amd64.\r\n",
      "Preparing to unpack .../03-libgail-common_2.24.33-2ubuntu2.1_amd64.deb ...\r\n",
      "\u001b7\u001b[24;0f\u001b[42m\u001b[30mProgress: [  8%]\u001b[49m\u001b[39m [####......................................................] \u001b8Unpacking libgail-common:amd64 (2.24.33-2ubuntu2.1) ...\r\n",
      "\u001b7\u001b[24;0f\u001b[42m\u001b[30mProgress: [  9%]\u001b[49m\u001b[39m [#####.....................................................] \u001b8Selecting previously unselected package libgtk2.0-bin.\r\n",
      "Preparing to unpack .../04-libgtk2.0-bin_2.24.33-2ubuntu2.1_amd64.deb ...\r\n",
      "\u001b7\u001b[24;0f\u001b[42m\u001b[30mProgress: [ 11%]\u001b[49m\u001b[39m [######....................................................] \u001b8Unpacking libgtk2.0-bin (2.24.33-2ubuntu2.1) ...\r\n",
      "\u001b7\u001b[24;0f\u001b[42m\u001b[30mProgress: [ 12%]\u001b[49m\u001b[39m [######....................................................] \u001b8Selecting previously unselected package xorg-sgml-doctools.\r\n",
      "Preparing to unpack .../05-xorg-sgml-doctools_1%3a1.11-1.1_all.deb ...\r\n",
      "\u001b7\u001b[24;0f\u001b[42m\u001b[30mProgress: [ 13%]\u001b[49m\u001b[39m [#######...................................................] \u001b8Unpacking xorg-sgml-doctools (1:1.11-1.1) ...\r\n",
      "\u001b7\u001b[24;0f\u001b[42m\u001b[30mProgress: [ 14%]\u001b[49m\u001b[39m [########..................................................] \u001b8Selecting previously unselected package x11proto-dev.\r\n",
      "Preparing to unpack .../06-x11proto-dev_2021.5-1_all.deb ...\r\n",
      "\u001b7\u001b[24;0f\u001b[42m\u001b[30mProgress: [ 15%]\u001b[49m\u001b[39m [########..................................................] \u001b8Unpacking x11proto-dev (2021.5-1) ...\r\n",
      "\u001b7\u001b[24;0f\u001b[42m\u001b[30mProgress: [ 16%]\u001b[49m\u001b[39m [#########.................................................] \u001b8Selecting previously unselected package libice-dev:amd64.\r\n",
      "Preparing to unpack .../07-libice-dev_2%3a1.0.10-1build2_amd64.deb ...\r\n",
      "\u001b7\u001b[24;0f\u001b[42m\u001b[30mProgress: [ 18%]\u001b[49m\u001b[39m [##########................................................] \u001b8Unpacking libice-dev:amd64 (2:1.0.10-1build2) ...\r\n",
      "\u001b7\u001b[24;0f\u001b[42m\u001b[30mProgress: [ 19%]\u001b[49m\u001b[39m [##########................................................] \u001b8Selecting previously unselected package libpthread-stubs0-dev:amd64.\r\n",
      "Preparing to unpack .../08-libpthread-stubs0-dev_0.4-1build2_amd64.deb ...\r\n",
      "\u001b7\u001b[24;0f\u001b[42m\u001b[30mProgress: [ 20%]\u001b[49m\u001b[39m [###########...............................................] \u001b8Unpacking libpthread-stubs0-dev:amd64 (0.4-1build2) ...\r\n",
      "\u001b7\u001b[24;0f\u001b[42m\u001b[30mProgress: [ 21%]\u001b[49m\u001b[39m [############..............................................] \u001b8Selecting previously unselected package librsvg2-common:amd64.\r\n",
      "Preparing to unpack .../09-librsvg2-common_2.52.5+dfsg-3ubuntu0.2_amd64.deb ...\r\n",
      "\u001b7\u001b[24;0f\u001b[42m\u001b[30mProgress: [ 22%]\u001b[49m\u001b[39m [############..............................................] \u001b8Unpacking librsvg2-common:amd64 (2.52.5+dfsg-3ubuntu0.2) ...\r\n",
      "Selecting previously unselected package libsm-dev:amd64.\r\n",
      "Preparing to unpack .../10-libsm-dev_2%3a1.2.3-1build2_amd64.deb ...\r\n",
      "\u001b7\u001b[24;0f\u001b[42m\u001b[30mProgress: [ 24%]\u001b[49m\u001b[39m [##############............................................] \u001b8Unpacking libsm-dev:amd64 (2:1.2.3-1build2) ...\r\n",
      "\u001b7\u001b[24;0f\u001b[42m\u001b[30mProgress: [ 25%]\u001b[49m\u001b[39m [##############............................................] \u001b8Selecting previously unselected package libxau-dev:amd64.\r\n",
      "Preparing to unpack .../11-libxau-dev_1%3a1.0.9-1build5_amd64.deb ...\r\n",
      "\u001b7\u001b[24;0f\u001b[42m\u001b[30mProgress: [ 26%]\u001b[49m\u001b[39m [###############...........................................] \u001b8Unpacking libxau-dev:amd64 (1:1.0.9-1build5) ...\r\n",
      "\u001b7\u001b[24;0f\u001b[42m\u001b[30mProgress: [ 28%]\u001b[49m\u001b[39m [################..........................................] \u001b8Selecting previously unselected package libxdmcp-dev:amd64.\r\n",
      "Preparing to unpack .../12-libxdmcp-dev_1%3a1.1.3-0ubuntu5_amd64.deb ...\r\n",
      "\u001b7\u001b[24;0f\u001b[42m\u001b[30mProgress: [ 29%]\u001b[49m\u001b[39m [################..........................................] \u001b8Unpacking libxdmcp-dev:amd64 (1:1.1.3-0ubuntu5) ...\r\n",
      "\u001b7\u001b[24;0f\u001b[42m\u001b[30mProgress: [ 30%]\u001b[49m\u001b[39m [#################.........................................] \u001b8Selecting previously unselected package xtrans-dev.\r\n",
      "Preparing to unpack .../13-xtrans-dev_1.4.0-1_all.deb ...\r\n",
      "\u001b7\u001b[24;0f\u001b[42m\u001b[30mProgress: [ 31%]\u001b[49m\u001b[39m [##################........................................] \u001b8Unpacking xtrans-dev (1.4.0-1) ...\r\n",
      "\u001b7\u001b[24;0f\u001b[42m\u001b[30mProgress: [ 32%]\u001b[49m\u001b[39m [##################........................................] \u001b8Selecting previously unselected package libxcb1-dev:amd64.\r\n",
      "Preparing to unpack .../14-libxcb1-dev_1.14-3ubuntu3_amd64.deb ...\r\n",
      "\u001b7\u001b[24;0f\u001b[42m\u001b[30mProgress: [ 33%]\u001b[49m\u001b[39m [###################.......................................] \u001b8Unpacking libxcb1-dev:amd64 (1.14-3ubuntu3) ...\r\n",
      "\u001b7\u001b[24;0f\u001b[42m\u001b[30mProgress: [ 34%]\u001b[49m\u001b[39m [###################.......................................] \u001b8Selecting previously unselected package libx11-dev:amd64.\r\n",
      "Preparing to unpack .../15-libx11-dev_2%3a1.7.5-1ubuntu0.3_amd64.deb ...\r\n",
      "\u001b7\u001b[24;0f\u001b[42m\u001b[30mProgress: [ 36%]\u001b[49m\u001b[39m [####################......................................] \u001b8Unpacking libx11-dev:amd64 (2:1.7.5-1ubuntu0.3) ...\r\n",
      "\u001b7\u001b[24;0f\u001b[42m\u001b[30mProgress: [ 37%]\u001b[49m\u001b[39m [#####################.....................................] \u001b8Selecting previously unselected package libxt-dev:amd64.\r\n",
      "Preparing to unpack .../16-libxt-dev_1%3a1.2.1-1_amd64.deb ...\r\n",
      "\u001b7\u001b[24;0f\u001b[42m\u001b[30mProgress: [ 38%]\u001b[49m\u001b[39m [######################....................................] \u001b8Unpacking libxt-dev:amd64 (1:1.2.1-1) ...\r\n",
      "\u001b7\u001b[24;0f\u001b[42m\u001b[30mProgress: [ 39%]\u001b[49m\u001b[39m [######################....................................] \u001b8Selecting previously unselected package openjdk-8-jre-headless:amd64.\r\n",
      "Preparing to unpack .../17-openjdk-8-jre-headless_8u422-b05-1~22.04_amd64.deb ...\r\n",
      "\u001b7\u001b[24;0f\u001b[42m\u001b[30mProgress: [ 40%]\u001b[49m\u001b[39m [#######################...................................] \u001b8Unpacking openjdk-8-jre-headless:amd64 (8u422-b05-1~22.04) ...\r\n",
      "\u001b7\u001b[24;0f\u001b[42m\u001b[30mProgress: [ 41%]\u001b[49m\u001b[39m [########################..................................] \u001b8Selecting previously unselected package openjdk-8-jre:amd64.\r\n",
      "Preparing to unpack .../18-openjdk-8-jre_8u422-b05-1~22.04_amd64.deb ...\r\n",
      "\u001b7\u001b[24;0f\u001b[42m\u001b[30mProgress: [ 43%]\u001b[49m\u001b[39m [########################..................................] \u001b8Unpacking openjdk-8-jre:amd64 (8u422-b05-1~22.04) ...\r\n",
      "\u001b7\u001b[24;0f\u001b[42m\u001b[30mProgress: [ 44%]\u001b[49m\u001b[39m [#########################.................................] \u001b8Selecting previously unselected package openjdk-8-jdk-headless:amd64.\r\n",
      "Preparing to unpack .../19-openjdk-8-jdk-headless_8u422-b05-1~22.04_amd64.deb ...\r\n",
      "\u001b7\u001b[24;0f\u001b[42m\u001b[30mProgress: [ 45%]\u001b[49m\u001b[39m [##########################................................] \u001b8Unpacking openjdk-8-jdk-headless:amd64 (8u422-b05-1~22.04) ...\r\n",
      "\u001b7\u001b[24;0f\u001b[42m\u001b[30mProgress: [ 46%]\u001b[49m\u001b[39m [##########################................................] \u001b8Selecting previously unselected package openjdk-8-jdk:amd64.\r\n",
      "Preparing to unpack .../20-openjdk-8-jdk_8u422-b05-1~22.04_amd64.deb ...\r\n",
      "\u001b7\u001b[24;0f\u001b[42m\u001b[30mProgress: [ 47%]\u001b[49m\u001b[39m [###########################...............................] \u001b8Unpacking openjdk-8-jdk:amd64 (8u422-b05-1~22.04) ...\r\n",
      "\u001b7\u001b[24;0f\u001b[42m\u001b[30mProgress: [ 48%]\u001b[49m\u001b[39m [############################..............................] \u001b8Setting up libpthread-stubs0-dev:amd64 (0.4-1build2) ...\r\n",
      "\u001b7\u001b[24;0f\u001b[42m\u001b[30mProgress: [ 49%]\u001b[49m\u001b[39m [############################..............................] \u001b8\u001b7\u001b[24;0f\u001b[42m\u001b[30mProgress: [ 51%]\u001b[49m\u001b[39m [#############################.............................] \u001b8Setting up xtrans-dev (1.4.0-1) ...\r\n",
      "\u001b7\u001b[24;0f\u001b[42m\u001b[30mProgress: [ 52%]\u001b[49m\u001b[39m [#############################.............................] \u001b8\u001b7\u001b[24;0f\u001b[42m\u001b[30mProgress: [ 53%]\u001b[49m\u001b[39m [##############################............................] \u001b8Setting up openjdk-8-jre-headless:amd64 (8u422-b05-1~22.04) ...\r\n",
      "\u001b7\u001b[24;0f\u001b[42m\u001b[30mProgress: [ 54%]\u001b[49m\u001b[39m [###############################...........................] \u001b8update-alternatives: using /usr/lib/jvm/java-8-openjdk-amd64/jre/bin/orbd to provide /usr/bin/orbd (orbd) in auto mode\r\n",
      "update-alternatives: using /usr/lib/jvm/java-8-openjdk-amd64/jre/bin/servertool to provide /usr/bin/servertool (servertool) in auto mode\r\n",
      "update-alternatives: using /usr/lib/jvm/java-8-openjdk-amd64/jre/bin/tnameserv to provide /usr/bin/tnameserv (tnameserv) in auto mode\r\n",
      "\u001b7\u001b[24;0f\u001b[42m\u001b[30mProgress: [ 55%]\u001b[49m\u001b[39m [################################..........................] \u001b8Setting up librsvg2-common:amd64 (2.52.5+dfsg-3ubuntu0.2) ...\r\n",
      "\u001b7\u001b[24;0f\u001b[42m\u001b[30mProgress: [ 56%]\u001b[49m\u001b[39m [################################..........................] \u001b8\u001b7\u001b[24;0f\u001b[42m\u001b[30mProgress: [ 57%]\u001b[49m\u001b[39m [#################################.........................] \u001b8Setting up xorg-sgml-doctools (1:1.11-1.1) ...\r\n",
      "\u001b7\u001b[24;0f\u001b[42m\u001b[30mProgress: [ 59%]\u001b[49m\u001b[39m [##################################........................] \u001b8\u001b7\u001b[24;0f\u001b[42m\u001b[30mProgress: [ 60%]\u001b[49m\u001b[39m [##################################........................] \u001b8Setting up libgtk2.0-common (2.24.33-2ubuntu2.1) ...\r\n",
      "\u001b7\u001b[24;0f\u001b[42m\u001b[30mProgress: [ 61%]\u001b[49m\u001b[39m [###################################.......................] \u001b8\u001b7\u001b[24;0f\u001b[42m\u001b[30mProgress: [ 62%]\u001b[49m\u001b[39m [####################################......................] \u001b8Setting up x11proto-dev (2021.5-1) ...\r\n",
      "\u001b7\u001b[24;0f\u001b[42m\u001b[30mProgress: [ 63%]\u001b[49m\u001b[39m [####################################......................] \u001b8\u001b7\u001b[24;0f\u001b[42m\u001b[30mProgress: [ 64%]\u001b[49m\u001b[39m [#####################################.....................] \u001b8Setting up libxau-dev:amd64 (1:1.0.9-1build5) ...\r\n",
      "\u001b7\u001b[24;0f\u001b[42m\u001b[30mProgress: [ 66%]\u001b[49m\u001b[39m [######################################....................] \u001b8\u001b7\u001b[24;0f\u001b[42m\u001b[30mProgress: [ 67%]\u001b[49m\u001b[39m [######################################....................] \u001b8Setting up libice-dev:amd64 (2:1.0.10-1build2) ...\r\n",
      "\u001b7\u001b[24;0f\u001b[42m\u001b[30mProgress: [ 68%]\u001b[49m\u001b[39m [#######################################...................] \u001b8\u001b7\u001b[24;0f\u001b[42m\u001b[30mProgress: [ 69%]\u001b[49m\u001b[39m [#######################################...................] \u001b8Setting up libsm-dev:amd64 (2:1.2.3-1build2) ...\r\n",
      "\u001b7\u001b[24;0f\u001b[42m\u001b[30mProgress: [ 70%]\u001b[49m\u001b[39m [########################################..................] \u001b8\u001b7\u001b[24;0f\u001b[42m\u001b[30mProgress: [ 71%]\u001b[49m\u001b[39m [#########################################.................] \u001b8Setting up libgtk2.0-0:amd64 (2.24.33-2ubuntu2.1) ...\r\n",
      "\u001b7\u001b[24;0f\u001b[42m\u001b[30mProgress: [ 72%]\u001b[49m\u001b[39m [##########################################................] \u001b8\u001b7\u001b[24;0f\u001b[42m\u001b[30mProgress: [ 74%]\u001b[49m\u001b[39m [##########################################................] \u001b8Setting up openjdk-8-jre:amd64 (8u422-b05-1~22.04) ...\r\n",
      "\u001b7\u001b[24;0f\u001b[42m\u001b[30mProgress: [ 75%]\u001b[49m\u001b[39m [###########################################...............] \u001b8update-alternatives: using /usr/lib/jvm/java-8-openjdk-amd64/jre/bin/policytool to provide /usr/bin/policytool (policytool) in auto mode\r\n",
      "\u001b7\u001b[24;0f\u001b[42m\u001b[30mProgress: [ 76%]\u001b[49m\u001b[39m [############################################..............] \u001b8Setting up libxdmcp-dev:amd64 (1:1.1.3-0ubuntu5) ...\r\n",
      "\u001b7\u001b[24;0f\u001b[42m\u001b[30mProgress: [ 77%]\u001b[49m\u001b[39m [############################################..............] \u001b8\u001b7\u001b[24;0f\u001b[42m\u001b[30mProgress: [ 78%]\u001b[49m\u001b[39m [#############################################.............] \u001b8Setting up openjdk-8-jdk-headless:amd64 (8u422-b05-1~22.04) ...\r\n",
      "\u001b7\u001b[24;0f\u001b[42m\u001b[30mProgress: [ 79%]\u001b[49m\u001b[39m [##############################################............] \u001b8update-alternatives: using /usr/lib/jvm/java-8-openjdk-amd64/bin/clhsdb to provide /usr/bin/clhsdb (clhsdb) in auto mode\r\n",
      "update-alternatives: using /usr/lib/jvm/java-8-openjdk-amd64/bin/extcheck to provide /usr/bin/extcheck (extcheck) in auto mode\r\n",
      "update-alternatives: using /usr/lib/jvm/java-8-openjdk-amd64/bin/hsdb to provide /usr/bin/hsdb (hsdb) in auto mode\r\n",
      "update-alternatives: using /usr/lib/jvm/java-8-openjdk-amd64/bin/idlj to provide /usr/bin/idlj (idlj) in auto mode\r\n",
      "update-alternatives: using /usr/lib/jvm/java-8-openjdk-amd64/bin/jar to provide /usr/bin/jar (jar) in auto mode\r\n",
      "update-alternatives: using /usr/lib/jvm/java-8-openjdk-amd64/bin/jarsigner to provide /usr/bin/jarsigner (jarsigner) in auto mode\r\n",
      "update-alternatives: using /usr/lib/jvm/java-8-openjdk-amd64/bin/javac to provide /usr/bin/javac (javac) in auto mode\r\n",
      "update-alternatives: using /usr/lib/jvm/java-8-openjdk-amd64/bin/javadoc to provide /usr/bin/javadoc (javadoc) in auto mode\r\n",
      "update-alternatives: using /usr/lib/jvm/java-8-openjdk-amd64/bin/javah to provide /usr/bin/javah (javah) in auto mode\r\n",
      "update-alternatives: using /usr/lib/jvm/java-8-openjdk-amd64/bin/javap to provide /usr/bin/javap (javap) in auto mode\r\n",
      "update-alternatives: using /usr/lib/jvm/java-8-openjdk-amd64/bin/jcmd to provide /usr/bin/jcmd (jcmd) in auto mode\r\n",
      "update-alternatives: using /usr/lib/jvm/java-8-openjdk-amd64/bin/jdb to provide /usr/bin/jdb (jdb) in auto mode\r\n",
      "update-alternatives: using /usr/lib/jvm/java-8-openjdk-amd64/bin/jdeps to provide /usr/bin/jdeps (jdeps) in auto mode\r\n",
      "update-alternatives: using /usr/lib/jvm/java-8-openjdk-amd64/bin/jfr to provide /usr/bin/jfr (jfr) in auto mode\r\n",
      "update-alternatives: using /usr/lib/jvm/java-8-openjdk-amd64/bin/jhat to provide /usr/bin/jhat (jhat) in auto mode\r\n",
      "update-alternatives: using /usr/lib/jvm/java-8-openjdk-amd64/bin/jinfo to provide /usr/bin/jinfo (jinfo) in auto mode\r\n",
      "update-alternatives: using /usr/lib/jvm/java-8-openjdk-amd64/bin/jmap to provide /usr/bin/jmap (jmap) in auto mode\r\n",
      "update-alternatives: using /usr/lib/jvm/java-8-openjdk-amd64/bin/jps to provide /usr/bin/jps (jps) in auto mode\r\n",
      "update-alternatives: using /usr/lib/jvm/java-8-openjdk-amd64/bin/jrunscript to provide /usr/bin/jrunscript (jrunscript) in auto mode\r\n",
      "update-alternatives: using /usr/lib/jvm/java-8-openjdk-amd64/bin/jsadebugd to provide /usr/bin/jsadebugd (jsadebugd) in auto mode\r\n",
      "update-alternatives: using /usr/lib/jvm/java-8-openjdk-amd64/bin/jstack to provide /usr/bin/jstack (jstack) in auto mode\r\n",
      "update-alternatives: using /usr/lib/jvm/java-8-openjdk-amd64/bin/jstat to provide /usr/bin/jstat (jstat) in auto mode\r\n",
      "update-alternatives: using /usr/lib/jvm/java-8-openjdk-amd64/bin/jstatd to provide /usr/bin/jstatd (jstatd) in auto mode\r\n",
      "update-alternatives: using /usr/lib/jvm/java-8-openjdk-amd64/bin/native2ascii to provide /usr/bin/native2ascii (native2ascii) in auto mode\r\n",
      "update-alternatives: using /usr/lib/jvm/java-8-openjdk-amd64/bin/rmic to provide /usr/bin/rmic (rmic) in auto mode\r\n",
      "update-alternatives: using /usr/lib/jvm/java-8-openjdk-amd64/bin/schemagen to provide /usr/bin/schemagen (schemagen) in auto mode\r\n",
      "update-alternatives: using /usr/lib/jvm/java-8-openjdk-amd64/bin/serialver to provide /usr/bin/serialver (serialver) in auto mode\r\n",
      "update-alternatives: using /usr/lib/jvm/java-8-openjdk-amd64/bin/wsgen to provide /usr/bin/wsgen (wsgen) in auto mode\r\n",
      "update-alternatives: using /usr/lib/jvm/java-8-openjdk-amd64/bin/wsimport to provide /usr/bin/wsimport (wsimport) in auto mode\r\n",
      "update-alternatives: using /usr/lib/jvm/java-8-openjdk-amd64/bin/xjc to provide /usr/bin/xjc (xjc) in auto mode\r\n",
      "\u001b7\u001b[24;0f\u001b[42m\u001b[30mProgress: [ 80%]\u001b[49m\u001b[39m [##############################################............] \u001b8Setting up libgail18:amd64 (2.24.33-2ubuntu2.1) ...\r\n",
      "\u001b7\u001b[24;0f\u001b[42m\u001b[30mProgress: [ 82%]\u001b[49m\u001b[39m [###############################################...........] \u001b8\u001b7\u001b[24;0f\u001b[42m\u001b[30mProgress: [ 83%]\u001b[49m\u001b[39m [################################################..........] \u001b8Setting up libgtk2.0-bin (2.24.33-2ubuntu2.1) ...\r\n",
      "\u001b7\u001b[24;0f\u001b[42m\u001b[30mProgress: [ 84%]\u001b[49m\u001b[39m [################################################..........] \u001b8\u001b7\u001b[24;0f\u001b[42m\u001b[30mProgress: [ 85%]\u001b[49m\u001b[39m [#################################################.........] \u001b8Setting up openjdk-8-jdk:amd64 (8u422-b05-1~22.04) ...\r\n",
      "\u001b7\u001b[24;0f\u001b[42m\u001b[30mProgress: [ 86%]\u001b[49m\u001b[39m [##################################################........] \u001b8update-alternatives: using /usr/lib/jvm/java-8-openjdk-amd64/bin/appletviewer to provide /usr/bin/appletviewer (appletviewer) in auto mode\r\n",
      "update-alternatives: using /usr/lib/jvm/java-8-openjdk-amd64/bin/jconsole to provide /usr/bin/jconsole (jconsole) in auto mode\r\n",
      "\u001b7\u001b[24;0f\u001b[42m\u001b[30mProgress: [ 87%]\u001b[49m\u001b[39m [##################################################........] \u001b8Setting up libxcb1-dev:amd64 (1.14-3ubuntu3) ...\r\n",
      "\u001b7\u001b[24;0f\u001b[42m\u001b[30mProgress: [ 89%]\u001b[49m\u001b[39m [###################################################.......] \u001b8\u001b7\u001b[24;0f\u001b[42m\u001b[30mProgress: [ 90%]\u001b[49m\u001b[39m [####################################################......] \u001b8Setting up libgail-common:amd64 (2.24.33-2ubuntu2.1) ...\r\n",
      "\u001b7\u001b[24;0f\u001b[42m\u001b[30mProgress: [ 91%]\u001b[49m\u001b[39m [####################################################......] \u001b8\u001b7\u001b[24;0f\u001b[42m\u001b[30mProgress: [ 92%]\u001b[49m\u001b[39m [#####################################################.....] \u001b8Setting up libx11-dev:amd64 (2:1.7.5-1ubuntu0.3) ...\r\n",
      "\u001b7\u001b[24;0f\u001b[42m\u001b[30mProgress: [ 93%]\u001b[49m\u001b[39m [#####################################################.....] \u001b8\u001b7\u001b[24;0f\u001b[42m\u001b[30mProgress: [ 94%]\u001b[49m\u001b[39m [######################################################....] \u001b8Setting up libxt-dev:amd64 (1:1.2.1-1) ...\r\n",
      "\u001b7\u001b[24;0f\u001b[42m\u001b[30mProgress: [ 95%]\u001b[49m\u001b[39m [#######################################################...] \u001b8\u001b7\u001b[24;0f\u001b[42m\u001b[30mProgress: [ 97%]\u001b[49m\u001b[39m [########################################################..] \u001b8Processing triggers for hicolor-icon-theme (0.17-2) ...\r\n",
      "Processing triggers for libc-bin (2.35-0ubuntu3.8) ...\r\n",
      "Processing triggers for man-db (2.10.2-1) ...\r\n",
      "Processing triggers for libgdk-pixbuf-2.0-0:amd64 (2.42.8+dfsg-1ubuntu0.3) ...\r\n",
      "\u001b7\u001b[24;0f\u001b[42m\u001b[30mProgress: [ 98%]\u001b[49m\u001b[39m [########################################################..] \u001b8\u001b7\u001b[24;0f\u001b[42m\u001b[30mProgress: [ 99%]\u001b[49m\u001b[39m [#########################################################.] \u001b8\r\n",
      "\u001b7\u001b[0;24r\u001b8\u001b[1A\u001b[Jupdate-alternatives: using /usr/lib/jvm/java-8-openjdk-amd64/jre/bin/java to provide /usr/bin/java (java) in manual mode\r\n",
      "Collecting git+https://github.com/MCFreddie777/language-check.git\r\n",
      "  Cloning https://github.com/MCFreddie777/language-check.git to /tmp/pip-req-build-2zekc5h_\r\n",
      "  Running command git clone --filter=blob:none --quiet https://github.com/MCFreddie777/language-check.git /tmp/pip-req-build-2zekc5h_\r\n",
      "  Resolved https://github.com/MCFreddie777/language-check.git to commit 337493f25b5a49af0a09b0e264f306eccefaff8f\r\n",
      "  Preparing metadata (setup.py) ... \u001b[?25l-\b \bdone\r\n",
      "\u001b[?25hBuilding wheels for collected packages: language-check\r\n",
      "  Building wheel for language-check (setup.py) ... \u001b[?25l-\b \b\\\b \b|\b \b/\b \b-\b \b\\\b \b|\b \bdone\r\n",
      "\u001b[?25h  Created wheel for language-check: filename=language_check-1.1-py3-none-any.whl size=90190985 sha256=5139acf0f5664e2bc218ab736a47c35e20bb5bd93195da64761ea94ba3818523\r\n",
      "  Stored in directory: /tmp/pip-ephem-wheel-cache-dpk5rjt_/wheels/d3/8b/b0/8f065f9ad75fb34b9be70a3cc1e2a24fec7a72d0c823c562d2\r\n",
      "Successfully built language-check\r\n",
      "Installing collected packages: language-check\r\n",
      "Successfully installed language-check-1.1\r\n",
      "Collecting POT\r\n",
      "  Downloading POT-0.9.4-cp310-cp310-manylinux_2_17_x86_64.manylinux2014_x86_64.whl.metadata (32 kB)\r\n",
      "Requirement already satisfied: numpy>=1.16 in /opt/conda/lib/python3.10/site-packages (from POT) (1.26.4)\r\n",
      "Requirement already satisfied: scipy>=1.6 in /opt/conda/lib/python3.10/site-packages (from POT) (1.14.0)\r\n",
      "Downloading POT-0.9.4-cp310-cp310-manylinux_2_17_x86_64.manylinux2014_x86_64.whl (835 kB)\r\n",
      "\u001b[2K   \u001b[90m━━━━━━━━━━━━━━━━━━━━━━━━━━━━━━━━━━━━━━━━\u001b[0m \u001b[32m835.4/835.4 kB\u001b[0m \u001b[31m24.3 MB/s\u001b[0m eta \u001b[36m0:00:00\u001b[0m\r\n",
      "\u001b[?25hInstalling collected packages: POT\r\n",
      "Successfully installed POT-0.9.4\r\n",
      "Collecting contractions\r\n",
      "  Downloading contractions-0.1.73-py2.py3-none-any.whl.metadata (1.2 kB)\r\n",
      "Collecting textsearch>=0.0.21 (from contractions)\r\n",
      "  Downloading textsearch-0.0.24-py2.py3-none-any.whl.metadata (1.2 kB)\r\n",
      "Collecting anyascii (from textsearch>=0.0.21->contractions)\r\n",
      "  Downloading anyascii-0.3.2-py3-none-any.whl.metadata (1.5 kB)\r\n",
      "Collecting pyahocorasick (from textsearch>=0.0.21->contractions)\r\n",
      "  Downloading pyahocorasick-2.1.0-cp310-cp310-manylinux_2_5_x86_64.manylinux1_x86_64.manylinux_2_12_x86_64.manylinux2010_x86_64.whl.metadata (13 kB)\r\n",
      "Downloading contractions-0.1.73-py2.py3-none-any.whl (8.7 kB)\r\n",
      "Downloading textsearch-0.0.24-py2.py3-none-any.whl (7.6 kB)\r\n",
      "Downloading anyascii-0.3.2-py3-none-any.whl (289 kB)\r\n",
      "\u001b[2K   \u001b[90m━━━━━━━━━━━━━━━━━━━━━━━━━━━━━━━━━━━━━━━━\u001b[0m \u001b[32m289.9/289.9 kB\u001b[0m \u001b[31m11.2 MB/s\u001b[0m eta \u001b[36m0:00:00\u001b[0m\r\n",
      "\u001b[?25hDownloading pyahocorasick-2.1.0-cp310-cp310-manylinux_2_5_x86_64.manylinux1_x86_64.manylinux_2_12_x86_64.manylinux2010_x86_64.whl (110 kB)\r\n",
      "\u001b[2K   \u001b[90m━━━━━━━━━━━━━━━━━━━━━━━━━━━━━━━━━━━━━━━━\u001b[0m \u001b[32m110.7/110.7 kB\u001b[0m \u001b[31m7.4 MB/s\u001b[0m eta \u001b[36m0:00:00\u001b[0m\r\n",
      "\u001b[?25hInstalling collected packages: pyahocorasick, anyascii, textsearch, contractions\r\n",
      "Successfully installed anyascii-0.3.2 contractions-0.1.73 pyahocorasick-2.1.0 textsearch-0.0.24\r\n",
      "Collecting pycontractions\r\n",
      "  Downloading pycontractions-2.0.1-py3-none-any.whl.metadata (9.2 kB)\r\n",
      "Requirement already satisfied: gensim>=2.0 in /opt/conda/lib/python3.10/site-packages (from pycontractions) (4.3.3)\r\n",
      "Requirement already satisfied: language-check>=1.0 in /opt/conda/lib/python3.10/site-packages (from pycontractions) (1.1)\r\n",
      "Requirement already satisfied: pyemd>=0.4.4 in /opt/conda/lib/python3.10/site-packages (from pycontractions) (1.0.0)\r\n",
      "Requirement already satisfied: numpy<2.0,>=1.18.5 in /opt/conda/lib/python3.10/site-packages (from gensim>=2.0->pycontractions) (1.26.4)\r\n",
      "Collecting scipy<1.14.0,>=1.7.0 (from gensim>=2.0->pycontractions)\r\n",
      "  Downloading scipy-1.13.1-cp310-cp310-manylinux_2_17_x86_64.manylinux2014_x86_64.whl.metadata (60 kB)\r\n",
      "\u001b[2K     \u001b[90m━━━━━━━━━━━━━━━━━━━━━━━━━━━━━━━━━━━━━━━━\u001b[0m \u001b[32m60.6/60.6 kB\u001b[0m \u001b[31m3.5 MB/s\u001b[0m eta \u001b[36m0:00:00\u001b[0m\r\n",
      "\u001b[?25hRequirement already satisfied: smart-open>=1.8.1 in /opt/conda/lib/python3.10/site-packages (from gensim>=2.0->pycontractions) (7.0.4)\r\n",
      "Requirement already satisfied: wrapt in /opt/conda/lib/python3.10/site-packages (from smart-open>=1.8.1->gensim>=2.0->pycontractions) (1.16.0)\r\n",
      "Downloading pycontractions-2.0.1-py3-none-any.whl (9.6 kB)\r\n",
      "Downloading scipy-1.13.1-cp310-cp310-manylinux_2_17_x86_64.manylinux2014_x86_64.whl (38.6 MB)\r\n",
      "\u001b[2K   \u001b[90m━━━━━━━━━━━━━━━━━━━━━━━━━━━━━━━━━━━━━━━━\u001b[0m \u001b[32m38.6/38.6 MB\u001b[0m \u001b[31m44.4 MB/s\u001b[0m eta \u001b[36m0:00:00\u001b[0m\r\n",
      "\u001b[?25hInstalling collected packages: scipy, pycontractions\r\n",
      "  Attempting uninstall: scipy\r\n",
      "    Found existing installation: scipy 1.14.0\r\n",
      "    Uninstalling scipy-1.14.0:\r\n",
      "      Successfully uninstalled scipy-1.14.0\r\n",
      "\u001b[31mERROR: pip's dependency resolver does not currently take into account all the packages that are installed. This behaviour is the source of the following dependency conflicts.\r\n",
      "cuml 24.8.0 requires cupy-cuda11x>=12.0.0, which is not installed.\r\n",
      "libpysal 4.9.2 requires packaging>=22, but you have packaging 21.3 which is incompatible.\r\n",
      "libpysal 4.9.2 requires shapely>=2.0.1, but you have shapely 1.8.5.post1 which is incompatible.\r\n",
      "momepy 0.7.2 requires shapely>=2, but you have shapely 1.8.5.post1 which is incompatible.\r\n",
      "pointpats 2.5.0 requires shapely>=2, but you have shapely 1.8.5.post1 which is incompatible.\r\n",
      "spaghetti 1.7.6 requires shapely>=2.0.1, but you have shapely 1.8.5.post1 which is incompatible.\r\n",
      "spopt 0.6.1 requires shapely>=2.0.1, but you have shapely 1.8.5.post1 which is incompatible.\r\n",
      "tsfresh 0.20.3 requires scipy>=1.14.0; python_version >= \"3.10\", but you have scipy 1.13.1 which is incompatible.\u001b[0m\u001b[31m\r\n",
      "\u001b[0mSuccessfully installed pycontractions-2.0.1 scipy-1.13.1\r\n"
     ]
    }
   ],
   "source": [
    "# `language_check` dependency must be used with Java 8\n",
    "! sudo apt install openjdk-8-jdk -y\n",
    "! sudo update-alternatives --set java /usr/lib/jvm/java-8-openjdk-amd64/jre/bin/java\n",
    "\n",
    "# Working version of `language_check`\n",
    "! pip install git+https://github.com/MCFreddie777/language-check.git\n",
    "\n",
    "! pip install POT # pycontractions dependency\n",
    "! pip install contractions # For counting contractions\n",
    "! pip install pycontractions # For expanding contractions"
   ]
  },
  {
   "cell_type": "markdown",
   "id": "d0819936",
   "metadata": {
    "papermill": {
     "duration": 0.019383,
     "end_time": "2024-08-31T12:53:07.335255",
     "exception": false,
     "start_time": "2024-08-31T12:53:07.315872",
     "status": "completed"
    },
    "tags": []
   },
   "source": [
    "## Data Processing"
   ]
  },
  {
   "cell_type": "markdown",
   "id": "5e38f3c7",
   "metadata": {
    "papermill": {
     "duration": 0.019486,
     "end_time": "2024-08-31T12:53:07.374142",
     "exception": false,
     "start_time": "2024-08-31T12:53:07.354656",
     "status": "completed"
    },
    "tags": []
   },
   "source": [
    "### Dataset Retrieval"
   ]
  },
  {
   "cell_type": "code",
   "execution_count": 3,
   "id": "c69706cb",
   "metadata": {
    "ExecuteTime": {
     "end_time": "2024-08-21T16:21:00.623066Z",
     "start_time": "2024-08-21T16:21:00.607729Z"
    },
    "execution": {
     "iopub.execute_input": "2024-08-31T12:53:07.414896Z",
     "iopub.status.busy": "2024-08-31T12:53:07.414255Z",
     "iopub.status.idle": "2024-08-31T12:53:08.207392Z",
     "shell.execute_reply": "2024-08-31T12:53:08.206426Z"
    },
    "papermill": {
     "duration": 0.816085,
     "end_time": "2024-08-31T12:53:08.209596",
     "exception": false,
     "start_time": "2024-08-31T12:53:07.393511",
     "status": "completed"
    },
    "tags": []
   },
   "outputs": [
    {
     "name": "stdout",
     "output_type": "stream",
     "text": [
      "X shape: (2381, 2)\n",
      "X1 shape: (13181, 2)\n",
      "Concatenated dataframe shape: (15562, 2)\n"
     ]
    },
    {
     "data": {
      "text/html": [
       "<div>\n",
       "<style scoped>\n",
       "    .dataframe tbody tr th:only-of-type {\n",
       "        vertical-align: middle;\n",
       "    }\n",
       "\n",
       "    .dataframe tbody tr th {\n",
       "        vertical-align: top;\n",
       "    }\n",
       "\n",
       "    .dataframe thead th {\n",
       "        text-align: right;\n",
       "    }\n",
       "</style>\n",
       "<table border=\"1\" class=\"dataframe\">\n",
       "  <thead>\n",
       "    <tr style=\"text-align: right;\">\n",
       "      <th></th>\n",
       "      <th>sentiment</th>\n",
       "      <th>text</th>\n",
       "    </tr>\n",
       "  </thead>\n",
       "  <tbody>\n",
       "    <tr>\n",
       "      <th>1151</th>\n",
       "      <td>negative</td>\n",
       "      <td>Honeywell Home Smart Home Security Starter Kit...</td>\n",
       "    </tr>\n",
       "    <tr>\n",
       "      <th>820</th>\n",
       "      <td>negative</td>\n",
       "      <td>Greek MP says he was offered 2 to 3 million eu...</td>\n",
       "    </tr>\n",
       "    <tr>\n",
       "      <th>976</th>\n",
       "      <td>negative</td>\n",
       "      <td>Prototypes of Razer triple screen gaming lapto...</td>\n",
       "    </tr>\n",
       "    <tr>\n",
       "      <th>2172</th>\n",
       "      <td>negative</td>\n",
       "      <td>U.S. government awards $2.1B to Sanofi-GSK cor...</td>\n",
       "    </tr>\n",
       "    <tr>\n",
       "      <th>9772</th>\n",
       "      <td>positive</td>\n",
       "      <td>The premier of British Columbia Christy Clark ...</td>\n",
       "    </tr>\n",
       "  </tbody>\n",
       "</table>\n",
       "</div>"
      ],
      "text/plain": [
       "     sentiment                                               text\n",
       "1151  negative  Honeywell Home Smart Home Security Starter Kit...\n",
       "820   negative  Greek MP says he was offered 2 to 3 million eu...\n",
       "976   negative  Prototypes of Razer triple screen gaming lapto...\n",
       "2172  negative  U.S. government awards $2.1B to Sanofi-GSK cor...\n",
       "9772  positive  The premier of British Columbia Christy Clark ..."
      ]
     },
     "execution_count": 3,
     "metadata": {},
     "output_type": "execute_result"
    }
   ],
   "source": [
    "import pandas as pd\n",
    "from pandas import DataFrame\n",
    "\n",
    "dataset_path: str = \"/kaggle/input/news-sentiment-analysis-for-stock-data-by-company/djia_news copy.csv/djia_news copy.csv\"\n",
    "column_names: list[str] = [\"sentiment\", \"text\"]\n",
    "X: DataFrame = pd.read_csv(\n",
    "    dataset_path,\n",
    "    header=0,\n",
    "    names=column_names,\n",
    "    encoding=\"utf-8\",\n",
    "    encoding_errors=\"replace\",\n",
    "    usecols=[0, 2]\n",
    ")\n",
    "print(f\"X shape: {X.shape}\")\n",
    "    \n",
    "dataset_path: str = \"/kaggle/input/news-sentiment-analysis-for-stock-data-by-company/nasdaq.csv/nasdaq.csv\"\n",
    "X1: DataFrame = pd.read_csv(\n",
    "    dataset_path,\n",
    "    header=0,\n",
    "    names=column_names,\n",
    "    encoding=\"utf-8\",\n",
    "    encoding_errors=\"replace\",\n",
    "    usecols=[0, 2]\n",
    ")\n",
    "print(f\"X1 shape: {X1.shape}\")\n",
    "    \n",
    "# Concatenate dataframes\n",
    "X: DataFrame = pd.concat([X, X1])\n",
    "print(f\"Concatenated dataframe shape: {X.shape}\")\n",
    "\n",
    "# Map integers labels to string for data visualization\n",
    "X[\"sentiment\"] = X[\"sentiment\"].map({\n",
    "    0: \"negative\",\n",
    "    1: \"positive\",\n",
    "    2: \"neutral\"\n",
    "})\n",
    "\n",
    "# TODO: Remove links\n",
    "X.sample(5)"
   ]
  },
  {
   "cell_type": "code",
   "execution_count": 4,
   "id": "aea0e91b",
   "metadata": {
    "execution": {
     "iopub.execute_input": "2024-08-31T12:53:08.251671Z",
     "iopub.status.busy": "2024-08-31T12:53:08.250959Z",
     "iopub.status.idle": "2024-08-31T12:53:08.283383Z",
     "shell.execute_reply": "2024-08-31T12:53:08.282507Z"
    },
    "papermill": {
     "duration": 0.054946,
     "end_time": "2024-08-31T12:53:08.285261",
     "exception": false,
     "start_time": "2024-08-31T12:53:08.230315",
     "status": "completed"
    },
    "tags": []
   },
   "outputs": [
    {
     "data": {
      "text/html": [
       "<div>\n",
       "<style scoped>\n",
       "    .dataframe tbody tr th:only-of-type {\n",
       "        vertical-align: middle;\n",
       "    }\n",
       "\n",
       "    .dataframe tbody tr th {\n",
       "        vertical-align: top;\n",
       "    }\n",
       "\n",
       "    .dataframe thead th {\n",
       "        text-align: right;\n",
       "    }\n",
       "</style>\n",
       "<table border=\"1\" class=\"dataframe\">\n",
       "  <thead>\n",
       "    <tr style=\"text-align: right;\">\n",
       "      <th></th>\n",
       "      <th>sentiment</th>\n",
       "      <th>text</th>\n",
       "    </tr>\n",
       "  </thead>\n",
       "  <tbody>\n",
       "    <tr>\n",
       "      <th>4846</th>\n",
       "      <td>neutral</td>\n",
       "      <td>With the discovery in southern China of human ...</td>\n",
       "    </tr>\n",
       "    <tr>\n",
       "      <th>7302</th>\n",
       "      <td>positive</td>\n",
       "      <td>Groupon Does Good: Deals Feed Families in Need...</td>\n",
       "    </tr>\n",
       "    <tr>\n",
       "      <th>11978</th>\n",
       "      <td>negative</td>\n",
       "      <td>Federal Reserve Refuses to Submit to an Audit ...</td>\n",
       "    </tr>\n",
       "    <tr>\n",
       "      <th>7173</th>\n",
       "      <td>negative</td>\n",
       "      <td>Χταπόδι… κλέβει κάμερα GoPro από δύτη</td>\n",
       "    </tr>\n",
       "    <tr>\n",
       "      <th>11624</th>\n",
       "      <td>negative</td>\n",
       "      <td>Bali rated #1 in Asia and #5 Island in World b...</td>\n",
       "    </tr>\n",
       "  </tbody>\n",
       "</table>\n",
       "</div>"
      ],
      "text/plain": [
       "      sentiment                                               text\n",
       "4846    neutral  With the discovery in southern China of human ...\n",
       "7302   positive  Groupon Does Good: Deals Feed Families in Need...\n",
       "11978  negative  Federal Reserve Refuses to Submit to an Audit ...\n",
       "7173   negative              Χταπόδι… κλέβει κάμερα GoPro από δύτη\n",
       "11624  negative  Bali rated #1 in Asia and #5 Island in World b..."
      ]
     },
     "execution_count": 4,
     "metadata": {},
     "output_type": "execute_result"
    }
   ],
   "source": [
    "dataset_path: str = \"/kaggle/input/stockmarket-sentiment-dataset/stock_data.csv\"\n",
    "column_names: list[str] = [\"text\", \"sentiment\"]\n",
    "X1: DataFrame = pd.read_csv(\n",
    "    dataset_path,\n",
    "    header=0,\n",
    "    names=column_names,\n",
    "    encoding=\"utf-8\",\n",
    "    encoding_errors=\"replace\"\n",
    ")\n",
    "\n",
    "# Reorder columns\n",
    "X1: DataFrame = X1.reindex(columns=[\"sentiment\", \"text\"])\n",
    "X1.sample(5)\n",
    "\n",
    "# Map integers labels to string for data visualization\n",
    "X1[\"sentiment\"] = X1[\"sentiment\"].map({\n",
    "    -1: \"negative\",\n",
    "    1: \"positive\",\n",
    "})\n",
    "X1.sample(5)\n",
    "\n",
    "X: DataFrame = pd.concat([X, X1])\n",
    "X.sample(5)"
   ]
  },
  {
   "cell_type": "code",
   "execution_count": 5,
   "id": "c5029a85",
   "metadata": {
    "execution": {
     "iopub.execute_input": "2024-08-31T12:53:08.326480Z",
     "iopub.status.busy": "2024-08-31T12:53:08.326150Z",
     "iopub.status.idle": "2024-08-31T12:53:08.380942Z",
     "shell.execute_reply": "2024-08-31T12:53:08.379951Z"
    },
    "papermill": {
     "duration": 0.077603,
     "end_time": "2024-08-31T12:53:08.382943",
     "exception": false,
     "start_time": "2024-08-31T12:53:08.305340",
     "status": "completed"
    },
    "tags": []
   },
   "outputs": [
    {
     "name": "stdout",
     "output_type": "stream",
     "text": [
      "X shape: (21353, 2)\n",
      "X1 shape: (11931, 2)\n",
      "Concatenated dataframe shape: (33284, 2)\n"
     ]
    },
    {
     "data": {
      "text/html": [
       "<div>\n",
       "<style scoped>\n",
       "    .dataframe tbody tr th:only-of-type {\n",
       "        vertical-align: middle;\n",
       "    }\n",
       "\n",
       "    .dataframe tbody tr th {\n",
       "        vertical-align: top;\n",
       "    }\n",
       "\n",
       "    .dataframe thead th {\n",
       "        text-align: right;\n",
       "    }\n",
       "</style>\n",
       "<table border=\"1\" class=\"dataframe\">\n",
       "  <thead>\n",
       "    <tr style=\"text-align: right;\">\n",
       "      <th></th>\n",
       "      <th>sentiment</th>\n",
       "      <th>text</th>\n",
       "    </tr>\n",
       "  </thead>\n",
       "  <tbody>\n",
       "    <tr>\n",
       "      <th>5970</th>\n",
       "      <td>negative</td>\n",
       "      <td>It may be the largest bank robbery in history:...</td>\n",
       "    </tr>\n",
       "    <tr>\n",
       "      <th>2339</th>\n",
       "      <td>positive</td>\n",
       "      <td>Bristol-Myers +3% premarket on Q4 beat</td>\n",
       "    </tr>\n",
       "    <tr>\n",
       "      <th>1281</th>\n",
       "      <td>positive</td>\n",
       "      <td>adio spot w/ user today.  Talking IWM leadersh...</td>\n",
       "    </tr>\n",
       "    <tr>\n",
       "      <th>8723</th>\n",
       "      <td>positive</td>\n",
       "      <td>Moderna: Covid vaccine shows nearly 95% protec...</td>\n",
       "    </tr>\n",
       "    <tr>\n",
       "      <th>4422</th>\n",
       "      <td>negative</td>\n",
       "      <td>Charles Darwin’s On the Origin of Species has ...</td>\n",
       "    </tr>\n",
       "  </tbody>\n",
       "</table>\n",
       "</div>"
      ],
      "text/plain": [
       "     sentiment                                               text\n",
       "5970  negative  It may be the largest bank robbery in history:...\n",
       "2339  positive             Bristol-Myers +3% premarket on Q4 beat\n",
       "1281  positive  adio spot w/ user today.  Talking IWM leadersh...\n",
       "8723  positive  Moderna: Covid vaccine shows nearly 95% protec...\n",
       "4422  negative  Charles Darwin’s On the Origin of Species has ..."
      ]
     },
     "execution_count": 5,
     "metadata": {},
     "output_type": "execute_result"
    }
   ],
   "source": [
    "dataset_path: str = \"/kaggle/input/twitter-financial-news-sentiment-dataset/sent_train.csv\"\n",
    "column_names: list[str] = [\"text\", \"sentiment\"]\n",
    "X1: DataFrame = pd.read_csv(\n",
    "    dataset_path,\n",
    "    header=0,\n",
    "    names=column_names,\n",
    "    encoding=\"utf-8\",\n",
    "    encoding_errors=\"replace\"\n",
    ")\n",
    "    \n",
    "dataset_path: str = \"/kaggle/input/twitter-financial-news-sentiment-dataset/sent_valid.csv\"\n",
    "column_names: list[str] = [\"text\", \"sentiment\"]\n",
    "X2: DataFrame = pd.read_csv(\n",
    "    dataset_path,\n",
    "    header=0,\n",
    "    names=column_names,\n",
    "    encoding=\"utf-8\",\n",
    "    encoding_errors=\"replace\"\n",
    ")\n",
    "\n",
    "X1: DataFrame = pd.concat([X1, X2])\n",
    "X1.sample(5)\n",
    "\n",
    "# Reorder columns\n",
    "X1: DataFrame = X1.reindex(columns=[\"sentiment\", \"text\"])\n",
    "X1.sample(5)\n",
    "\n",
    "# Map integers labels to string for data visualization\n",
    "X1[\"sentiment\"] = X1[\"sentiment\"].map({\n",
    "    0: \"negative\",\n",
    "    1: \"positive\",\n",
    "    2: \"neutral\"\n",
    "})\n",
    "X1.sample(5)\n",
    "\n",
    "# Concatenate dataframes\n",
    "print(f\"X shape: {X.shape}\")\n",
    "print(f\"X1 shape: {X1.shape}\")\n",
    "\n",
    "X: DataFrame = pd.concat([X, X1])\n",
    "print(f\"Concatenated dataframe shape: {X.shape}\")\n",
    "\n",
    "\n",
    "X.sample(5)"
   ]
  },
  {
   "cell_type": "code",
   "execution_count": 6,
   "id": "a9a4899e",
   "metadata": {
    "ExecuteTime": {
     "end_time": "2024-08-21T16:21:00.623066Z",
     "start_time": "2024-08-21T16:21:00.607729Z"
    },
    "execution": {
     "iopub.execute_input": "2024-08-31T12:53:08.425458Z",
     "iopub.status.busy": "2024-08-31T12:53:08.424752Z",
     "iopub.status.idle": "2024-08-31T12:53:08.465780Z",
     "shell.execute_reply": "2024-08-31T12:53:08.464935Z"
    },
    "papermill": {
     "duration": 0.064001,
     "end_time": "2024-08-31T12:53:08.467695",
     "exception": false,
     "start_time": "2024-08-31T12:53:08.403694",
     "status": "completed"
    },
    "tags": []
   },
   "outputs": [
    {
     "name": "stdout",
     "output_type": "stream",
     "text": [
      "X shape: (33284, 2)\n",
      "X1 shape: (4846, 2)\n",
      "Concatenated dataframe shape: (38130, 2)\n"
     ]
    },
    {
     "data": {
      "text/html": [
       "<div>\n",
       "<style scoped>\n",
       "    .dataframe tbody tr th:only-of-type {\n",
       "        vertical-align: middle;\n",
       "    }\n",
       "\n",
       "    .dataframe tbody tr th {\n",
       "        vertical-align: top;\n",
       "    }\n",
       "\n",
       "    .dataframe thead th {\n",
       "        text-align: right;\n",
       "    }\n",
       "</style>\n",
       "<table border=\"1\" class=\"dataframe\">\n",
       "  <thead>\n",
       "    <tr style=\"text-align: right;\">\n",
       "      <th></th>\n",
       "      <th>sentiment</th>\n",
       "      <th>text</th>\n",
       "    </tr>\n",
       "  </thead>\n",
       "  <tbody>\n",
       "    <tr>\n",
       "      <th>1629</th>\n",
       "      <td>negative</td>\n",
       "      <td>AAP DownTend seem confirmed after broken the t...</td>\n",
       "    </tr>\n",
       "    <tr>\n",
       "      <th>2297</th>\n",
       "      <td>positive</td>\n",
       "      <td>Quarterly diluted EPS on continuing operations...</td>\n",
       "    </tr>\n",
       "    <tr>\n",
       "      <th>6477</th>\n",
       "      <td>neutral</td>\n",
       "      <td>Edelweiss Launches Bharat Bond ETF, Targets Rs...</td>\n",
       "    </tr>\n",
       "    <tr>\n",
       "      <th>1342</th>\n",
       "      <td>negative</td>\n",
       "      <td>@TotesTravel : Watch CNBC's full interview wit...</td>\n",
       "    </tr>\n",
       "    <tr>\n",
       "      <th>9512</th>\n",
       "      <td>negative</td>\n",
       "      <td>Advance Research on Pediatric Epilepsy Therape...</td>\n",
       "    </tr>\n",
       "  </tbody>\n",
       "</table>\n",
       "</div>"
      ],
      "text/plain": [
       "     sentiment                                               text\n",
       "1629  negative  AAP DownTend seem confirmed after broken the t...\n",
       "2297  positive  Quarterly diluted EPS on continuing operations...\n",
       "6477   neutral  Edelweiss Launches Bharat Bond ETF, Targets Rs...\n",
       "1342  negative  @TotesTravel : Watch CNBC's full interview wit...\n",
       "9512  negative  Advance Research on Pediatric Epilepsy Therape..."
      ]
     },
     "execution_count": 6,
     "metadata": {},
     "output_type": "execute_result"
    }
   ],
   "source": [
    "dataset_path: str = \"/kaggle/input/sentiment-analysis-for-financial-news/all-data.csv\"\n",
    "column_names: list[str] = [\"sentiment\", \"text\"]\n",
    "X1: DataFrame = pd.read_csv(\n",
    "    dataset_path,\n",
    "    names=column_names,\n",
    "    encoding=\"utf-8\",\n",
    "    encoding_errors=\"replace\"\n",
    ")\n",
    "print(f\"X shape: {X.shape}\")\n",
    "print(f\"X1 shape: {X1.shape}\")\n",
    "\n",
    "\n",
    "# Concatenate dataframes\n",
    "X: DataFrame = pd.concat([X, X1])\n",
    "print(f\"Concatenated dataframe shape: {X.shape}\")\n",
    "\n",
    "X.sample(5)"
   ]
  },
  {
   "cell_type": "code",
   "execution_count": 7,
   "id": "396bdf15",
   "metadata": {
    "ExecuteTime": {
     "end_time": "2024-08-21T16:21:00.720417Z",
     "start_time": "2024-08-21T16:21:00.680857Z"
    },
    "execution": {
     "iopub.execute_input": "2024-08-31T12:53:08.511790Z",
     "iopub.status.busy": "2024-08-31T12:53:08.511042Z",
     "iopub.status.idle": "2024-08-31T12:53:08.718318Z",
     "shell.execute_reply": "2024-08-31T12:53:08.717147Z"
    },
    "papermill": {
     "duration": 0.233653,
     "end_time": "2024-08-31T12:53:08.722031",
     "exception": false,
     "start_time": "2024-08-31T12:53:08.488378",
     "status": "completed"
    },
    "tags": []
   },
   "outputs": [
    {
     "data": {
      "image/png": "[encoded data removed]",
      "text/plain": [
       "<Figure size 800x800 with 1 Axes>"
      ]
     },
     "metadata": {},
     "output_type": "display_data"
    }
   ],
   "source": [
    "import matplotlib.pyplot as plt\n",
    "from pandas import Series\n",
    "\n",
    "label_counts: Series = X[\"sentiment\"].value_counts()\n",
    "plt.figure(figsize=(8, 8))\n",
    "plt.pie(label_counts, labels=label_counts.index, autopct='%1.1f%%')\n",
    "plt.title('Sentiments distribution')\n",
    "plt.show()"
   ]
  },
  {
   "cell_type": "markdown",
   "id": "b92ad8ac",
   "metadata": {
    "papermill": {
     "duration": 0.020707,
     "end_time": "2024-08-31T12:53:08.777950",
     "exception": false,
     "start_time": "2024-08-31T12:53:08.757243",
     "status": "completed"
    },
    "tags": []
   },
   "source": [
    "### Data Cleaning"
   ]
  },
  {
   "cell_type": "code",
   "execution_count": 8,
   "id": "c45f7531",
   "metadata": {
    "ExecuteTime": {
     "end_time": "2024-08-21T16:21:00.810216Z",
     "start_time": "2024-08-21T16:21:00.760091Z"
    },
    "execution": {
     "iopub.execute_input": "2024-08-31T12:53:08.821134Z",
     "iopub.status.busy": "2024-08-31T12:53:08.820559Z",
     "iopub.status.idle": "2024-08-31T12:53:09.017159Z",
     "shell.execute_reply": "2024-08-31T12:53:09.015727Z"
    },
    "papermill": {
     "duration": 0.224185,
     "end_time": "2024-08-31T12:53:09.022936",
     "exception": false,
     "start_time": "2024-08-31T12:53:08.798751",
     "status": "completed"
    },
    "tags": []
   },
   "outputs": [
    {
     "data": {
      "image/png": "[encoded data removed]",
      "text/plain": [
       "<Figure size 800x800 with 1 Axes>"
      ]
     },
     "metadata": {},
     "output_type": "display_data"
    }
   ],
   "source": [
    "# Balance dataframe so that each sentiment has the same number of elements\n",
    "min_label_count: int = label_counts.values[-1]\n",
    "negative_sample: DataFrame = X[X[\"sentiment\"] == \"negative\"].sample(min_label_count)\n",
    "neutral_sample: DataFrame = X[X[\"sentiment\"] == \"neutral\"].sample(min_label_count)\n",
    "positive_sample: DataFrame = X[X[\"sentiment\"] == \"positive\"].sample(min_label_count)\n",
    "X: DataFrame = pd.concat([negative_sample, neutral_sample, positive_sample])\n",
    "\n",
    "# Visualize sentiment distribution after balancing\n",
    "label_counts: Series = X[\"sentiment\"].value_counts()\n",
    "plt.figure(figsize=(8, 8))\n",
    "plt.pie(label_counts, labels=label_counts.index, autopct='%1.1f%%')\n",
    "plt.title('Sentiment distribution after balancing')\n",
    "plt.show()"
   ]
  },
  {
   "cell_type": "code",
   "execution_count": 9,
   "id": "812b7d18",
   "metadata": {
    "execution": {
     "iopub.execute_input": "2024-08-31T12:53:09.085083Z",
     "iopub.status.busy": "2024-08-31T12:53:09.084410Z",
     "iopub.status.idle": "2024-08-31T12:53:09.104989Z",
     "shell.execute_reply": "2024-08-31T12:53:09.104192Z"
    },
    "papermill": {
     "duration": 0.044827,
     "end_time": "2024-08-31T12:53:09.106875",
     "exception": false,
     "start_time": "2024-08-31T12:53:09.062048",
     "status": "completed"
    },
    "tags": []
   },
   "outputs": [
    {
     "data": {
      "text/plain": [
       "6180         Chain store sales fall back from recent pace\n",
       "376     US Boeing 747 crash in Afghanistan - Huge Expl...\n",
       "2655    Global 3D Printing Market Assessment Covering ...\n",
       "419     Caterpillar trucks Xerox machines and Samsonit...\n",
       "4209    Jul. 18 -- Police are looking for a man who th...\n",
       "                              ...                        \n",
       "3067    HBAN Huntington Bank aunches Spartans Debit Ca...\n",
       "1568    Remember the McDonalds theory of war?  The Rus...\n",
       "9071    At times the debate in the face of Maggie nood...\n",
       "3203    DDD worked with 3d design software today. clic...\n",
       "2695    India is now producing the world’s cheapest so...\n",
       "Name: text, Length: 32862, dtype: object"
      ]
     },
     "execution_count": 9,
     "metadata": {},
     "output_type": "execute_result"
    }
   ],
   "source": [
    "# Remove leading and trailing whitespaces and newlines characters\n",
    "X[\"text\"].str.strip()"
   ]
  },
  {
   "cell_type": "code",
   "execution_count": 10,
   "id": "d939f382",
   "metadata": {
    "execution": {
     "iopub.execute_input": "2024-08-31T12:53:09.151881Z",
     "iopub.status.busy": "2024-08-31T12:53:09.151313Z",
     "iopub.status.idle": "2024-08-31T12:53:09.325844Z",
     "shell.execute_reply": "2024-08-31T12:53:09.324955Z"
    },
    "papermill": {
     "duration": 0.198911,
     "end_time": "2024-08-31T12:53:09.327947",
     "exception": false,
     "start_time": "2024-08-31T12:53:09.129036",
     "status": "completed"
    },
    "tags": []
   },
   "outputs": [
    {
     "name": "stdout",
     "output_type": "stream",
     "text": [
      "Number of URLs present in the dataset: 6791\n",
      "Cleaning...\n",
      "Remaining URLs: 0\n"
     ]
    }
   ],
   "source": [
    "import re\n",
    "from pandas import Index\n",
    "\n",
    "# Remove all URLs\n",
    "regex: str = r'http[s]?://(?:[a-zA-Z]|[0-9]|[$-_@.&+]|[!*\\(\\),]|(?:%[0-9a-fA-F][0-9a-fA-F]))+'\n",
    "urls: list[list[str]] = [re.findall(regex, x) for x in X.text]\n",
    "urls: list[str] = [x for x1 in urls for x in x1 if x]\n",
    "print(f\"Number of URLs present in the dataset: {len(urls)}\")\n",
    "\n",
    "print(\"Cleaning...\")\n",
    "X.text.replace(inplace=True, regex=regex, value=\"\")\n",
    "    \n",
    "urls: list[list[str]] = [re.findall(regex, x) for x in X.text]\n",
    "urls: list[str] = [x for x1 in urls for x in x1 if x]\n",
    "print(f\"Remaining URLs: {len(urls)}\")"
   ]
  },
  {
   "cell_type": "code",
   "execution_count": 11,
   "id": "b8a91c57",
   "metadata": {
    "execution": {
     "iopub.execute_input": "2024-08-31T12:53:09.373714Z",
     "iopub.status.busy": "2024-08-31T12:53:09.373327Z",
     "iopub.status.idle": "2024-08-31T12:53:09.377598Z",
     "shell.execute_reply": "2024-08-31T12:53:09.376685Z"
    },
    "papermill": {
     "duration": 0.029498,
     "end_time": "2024-08-31T12:53:09.379506",
     "exception": false,
     "start_time": "2024-08-31T12:53:09.350008",
     "status": "completed"
    },
    "tags": []
   },
   "outputs": [],
   "source": [
    "# Translate text to english"
   ]
  },
  {
   "cell_type": "markdown",
   "id": "fe2b4872",
   "metadata": {
    "papermill": {
     "duration": 0.021868,
     "end_time": "2024-08-31T12:53:09.423167",
     "exception": false,
     "start_time": "2024-08-31T12:53:09.401299",
     "status": "completed"
    },
    "tags": []
   },
   "source": [
    "### Expand Contractions"
   ]
  },
  {
   "cell_type": "code",
   "execution_count": 12,
   "id": "e39223a6",
   "metadata": {
    "execution": {
     "iopub.execute_input": "2024-08-31T12:53:09.468876Z",
     "iopub.status.busy": "2024-08-31T12:53:09.468160Z",
     "iopub.status.idle": "2024-08-31T12:54:25.073273Z",
     "shell.execute_reply": "2024-08-31T12:54:25.072232Z"
    },
    "papermill": {
     "duration": 75.630861,
     "end_time": "2024-08-31T12:54:25.075859",
     "exception": false,
     "start_time": "2024-08-31T12:53:09.444998",
     "status": "completed"
    },
    "tags": []
   },
   "outputs": [],
   "source": [
    "from pycontractions import Contractions\n",
    "\n",
    "path_to_model: str = \"/kaggle/input/googlenewsvectors/GoogleNews-vectors-negative300.bin\"\n",
    "\n",
    "# Contractions object initialization takes a bit of time...  \n",
    "contractions: Contractions = Contractions(path_to_model)\n",
    "contractions.load_models()"
   ]
  },
  {
   "cell_type": "code",
   "execution_count": 13,
   "id": "b572d245",
   "metadata": {
    "execution": {
     "iopub.execute_input": "2024-08-31T12:54:25.121626Z",
     "iopub.status.busy": "2024-08-31T12:54:25.121252Z",
     "iopub.status.idle": "2024-08-31T12:55:21.882833Z",
     "shell.execute_reply": "2024-08-31T12:55:21.881855Z"
    },
    "papermill": {
     "duration": 56.80869,
     "end_time": "2024-08-31T12:55:21.906939",
     "exception": false,
     "start_time": "2024-08-31T12:54:25.098249",
     "status": "completed"
    },
    "tags": []
   },
   "outputs": [
    {
     "name": "stdout",
     "output_type": "stream",
     "text": [
      "Expanding contractions...\n"
     ]
    },
    {
     "data": {
      "text/plain": [
       "1993     Facebook is ‘the new cigarettes for our societ...\n",
       "10353    Financial Express Selects Radware to Guarantee...\n",
       "7891     Businessmen bribed foreign officials to import...\n",
       "3520     TJX Q3 TJX International same-store sales up 6...\n",
       "3374     MyPillow’s CEO a Trump supporter says Bed Bath...\n",
       "7986     Hedge Funds Are Crazy About PC Connection, Inc...\n",
       "1226     user Prop_Trader user --- you have the January...\n",
       "502      Ruukki 's delivery includes steel structures ,...\n",
       "2622     GOOG this market leader is heading to next Cen...\n",
       "2041     The company 's net sales in 2010 totalled MEUR...\n",
       "Name: text, dtype: object"
      ]
     },
     "execution_count": 13,
     "metadata": {},
     "output_type": "execute_result"
    }
   ],
   "source": [
    "import contractions as contractions_counter\n",
    "\n",
    "# Contractions expansion takes time too...\n",
    "print(\"Expanding contractions...\")\n",
    "X.text = X.text.apply(lambda x: list(contractions.expand_texts([x], precise=True))[0])\n",
    "\n",
    "X.text.sample(10)"
   ]
  },
  {
   "cell_type": "code",
   "execution_count": 14,
   "id": "7f786700",
   "metadata": {
    "execution": {
     "iopub.execute_input": "2024-08-31T12:55:21.952827Z",
     "iopub.status.busy": "2024-08-31T12:55:21.952128Z",
     "iopub.status.idle": "2024-08-31T12:55:22.127674Z",
     "shell.execute_reply": "2024-08-31T12:55:22.126657Z"
    },
    "papermill": {
     "duration": 0.200985,
     "end_time": "2024-08-31T12:55:22.130036",
     "exception": false,
     "start_time": "2024-08-31T12:55:21.929051",
     "status": "completed"
    },
    "tags": []
   },
   "outputs": [],
   "source": [
    "# Make final dataset downloadable\n",
    "path: str = \"/kaggle/working/dataset.csv\"\n",
    "X.to_csv(path, index=False)"
   ]
  },
  {
   "cell_type": "code",
   "execution_count": 15,
   "id": "5c52d592",
   "metadata": {
    "execution": {
     "iopub.execute_input": "2024-08-31T12:55:22.176890Z",
     "iopub.status.busy": "2024-08-31T12:55:22.176514Z",
     "iopub.status.idle": "2024-08-31T12:55:22.189927Z",
     "shell.execute_reply": "2024-08-31T12:55:22.189020Z"
    },
    "papermill": {
     "duration": 0.039805,
     "end_time": "2024-08-31T12:55:22.192323",
     "exception": false,
     "start_time": "2024-08-31T12:55:22.152518",
     "status": "completed"
    },
    "tags": []
   },
   "outputs": [
    {
     "data": {
      "text/plain": [
       "3389     2\n",
       "264      1\n",
       "10854    0\n",
       "2552     1\n",
       "4547     1\n",
       "Name: sentiment, dtype: int64"
      ]
     },
     "execution_count": 15,
     "metadata": {},
     "output_type": "execute_result"
    }
   ],
   "source": [
    "# Encode labels from string to integer\n",
    "X[\"sentiment\"] = X[\"sentiment\"].map({\n",
    "    'negative': 0,\n",
    "    'neutral' : 1,\n",
    "    'positive': 2\n",
    "})\n",
    "\n",
    "# Extract labels\n",
    "Y: Series = X.pop(\"sentiment\")\n",
    "\n",
    "Y.sample(5)"
   ]
  },
  {
   "cell_type": "code",
   "execution_count": 16,
   "id": "32e7f95b",
   "metadata": {
    "ExecuteTime": {
     "end_time": "2024-08-21T16:21:00.830232Z",
     "start_time": "2024-08-21T16:21:00.819469Z"
    },
    "execution": {
     "iopub.execute_input": "2024-08-31T12:55:22.239840Z",
     "iopub.status.busy": "2024-08-31T12:55:22.239509Z",
     "iopub.status.idle": "2024-08-31T12:55:22.380091Z",
     "shell.execute_reply": "2024-08-31T12:55:22.378839Z"
    },
    "papermill": {
     "duration": 0.165855,
     "end_time": "2024-08-31T12:55:22.382321",
     "exception": false,
     "start_time": "2024-08-31T12:55:22.216466",
     "status": "completed"
    },
    "tags": []
   },
   "outputs": [
    {
     "name": "stdout",
     "output_type": "stream",
     "text": [
      "Vocabulary size: 68642\n"
     ]
    }
   ],
   "source": [
    "# Get the number of unique words in all the texts\n",
    "def get_vocab_size(strings: Series) -> int:\n",
    "    unique_words: set[str] = set()\n",
    "    for string in strings:\n",
    "        for word in string.split():\n",
    "            unique_words.add(word)\n",
    "    return len(unique_words)\n",
    "\n",
    "\n",
    "vocab_size: int = get_vocab_size(X.squeeze())\n",
    "print(f\"Vocabulary size: {vocab_size}\")"
   ]
  },
  {
   "cell_type": "code",
   "execution_count": 17,
   "id": "d145a5f5",
   "metadata": {
    "ExecuteTime": {
     "end_time": "2024-08-21T16:21:00.956436Z",
     "start_time": "2024-08-21T16:21:00.951685Z"
    },
    "execution": {
     "iopub.execute_input": "2024-08-31T12:55:22.429136Z",
     "iopub.status.busy": "2024-08-31T12:55:22.428758Z",
     "iopub.status.idle": "2024-08-31T12:55:22.439648Z",
     "shell.execute_reply": "2024-08-31T12:55:22.438515Z"
    },
    "papermill": {
     "duration": 0.036604,
     "end_time": "2024-08-31T12:55:22.441706",
     "exception": false,
     "start_time": "2024-08-31T12:55:22.405102",
     "status": "completed"
    },
    "tags": []
   },
   "outputs": [
    {
     "name": "stdout",
     "output_type": "stream",
     "text": [
      "X_train length: 24646\n",
      "Y_train length: 24646\n",
      "X_val length: 8216\n",
      "Y_val length: 8216\n"
     ]
    }
   ],
   "source": [
    "from sklearn.model_selection import train_test_split\n",
    "\n",
    "X_train, X_val, Y_train, Y_val = train_test_split(\n",
    "    X,\n",
    "    Y,\n",
    "    test_size=0.25\n",
    ")\n",
    "\n",
    "print(f\"X_train length: {len(X_train)}\")\n",
    "print(f\"Y_train length: {len(Y_train)}\")\n",
    "print(f\"X_val length: {len(X_val)}\")\n",
    "print(f\"Y_val length: {len(Y_val)}\")"
   ]
  },
  {
   "cell_type": "markdown",
   "id": "effa3e50",
   "metadata": {
    "papermill": {
     "duration": 0.025523,
     "end_time": "2024-08-31T12:55:22.490030",
     "exception": false,
     "start_time": "2024-08-31T12:55:22.464507",
     "status": "completed"
    },
    "tags": []
   },
   "source": [
    "## Model Building"
   ]
  },
  {
   "cell_type": "markdown",
   "id": "e434d87c",
   "metadata": {
    "papermill": {
     "duration": 0.029591,
     "end_time": "2024-08-31T12:55:22.547929",
     "exception": false,
     "start_time": "2024-08-31T12:55:22.518338",
     "status": "completed"
    },
    "tags": []
   },
   "source": [
    "### Neural Network Definition"
   ]
  },
  {
   "cell_type": "code",
   "execution_count": 18,
   "id": "dec79555",
   "metadata": {
    "ExecuteTime": {
     "end_time": "2024-08-21T16:21:01.092371Z",
     "start_time": "2024-08-21T16:21:01.071628Z"
    },
    "execution": {
     "iopub.execute_input": "2024-08-31T12:55:22.595186Z",
     "iopub.status.busy": "2024-08-31T12:55:22.594792Z",
     "iopub.status.idle": "2024-08-31T12:55:23.473853Z",
     "shell.execute_reply": "2024-08-31T12:55:23.472847Z"
    },
    "papermill": {
     "duration": 0.905408,
     "end_time": "2024-08-31T12:55:23.476218",
     "exception": false,
     "start_time": "2024-08-31T12:55:22.570810",
     "status": "completed"
    },
    "tags": []
   },
   "outputs": [],
   "source": [
    "import os\n",
    "os.environ[\"KERAS_BACKEND\"] = \"tensorflow\"\n",
    "import keras\n",
    "\n",
    "sequence_length = 64\n",
    "\n",
    "vectorize_layer = keras.layers.TextVectorization(\n",
    "    max_tokens=vocab_size,\n",
    "    output_mode=\"int\",\n",
    "    output_sequence_length=sequence_length,\n",
    "    name=\"text-vectorization\"\n",
    ")\n",
    "\n",
    "vectorize_layer.adapt(X_train)"
   ]
  },
  {
   "cell_type": "code",
   "execution_count": 19,
   "id": "789434e4",
   "metadata": {
    "ExecuteTime": {
     "end_time": "2024-08-21T16:21:01.144832Z",
     "start_time": "2024-08-21T16:21:01.110685Z"
    },
    "execution": {
     "iopub.execute_input": "2024-08-31T12:55:23.523428Z",
     "iopub.status.busy": "2024-08-31T12:55:23.522822Z",
     "iopub.status.idle": "2024-08-31T12:55:23.617678Z",
     "shell.execute_reply": "2024-08-31T12:55:23.616843Z"
    },
    "papermill": {
     "duration": 0.120639,
     "end_time": "2024-08-31T12:55:23.619533",
     "exception": false,
     "start_time": "2024-08-31T12:55:23.498894",
     "status": "completed"
    },
    "tags": []
   },
   "outputs": [
    {
     "data": {
      "text/html": [
       "<pre style=\"white-space:pre;overflow-x:auto;line-height:normal;font-family:Menlo,'DejaVu Sans Mono',consolas,'Courier New',monospace\"><span style=\"font-weight: bold\">Model: \"finance-news-sentiments-classifier\"</span>\n",
       "</pre>\n"
      ],
      "text/plain": [
       "\u001b[1mModel: \"finance-news-sentiments-classifier\"\u001b[0m\n"
      ]
     },
     "metadata": {},
     "output_type": "display_data"
    },
    {
     "data": {
      "text/html": [
       "<pre style=\"white-space:pre;overflow-x:auto;line-height:normal;font-family:Menlo,'DejaVu Sans Mono',consolas,'Courier New',monospace\">┏━━━━━━━━━━━━━━━━━━━━━━━━━━━━━━━━━┳━━━━━━━━━━━━━━━━━━━━━━━━┳━━━━━━━━━━━━━━━┓\n",
       "┃<span style=\"font-weight: bold\"> Layer (type)                    </span>┃<span style=\"font-weight: bold\"> Output Shape           </span>┃<span style=\"font-weight: bold\">       Param # </span>┃\n",
       "┡━━━━━━━━━━━━━━━━━━━━━━━━━━━━━━━━━╇━━━━━━━━━━━━━━━━━━━━━━━━╇━━━━━━━━━━━━━━━┩\n",
       "│ text-vectorization              │ (<span style=\"color: #00d7ff; text-decoration-color: #00d7ff\">None</span>, <span style=\"color: #00af00; text-decoration-color: #00af00\">64</span>)             │             <span style=\"color: #00af00; text-decoration-color: #00af00\">0</span> │\n",
       "│ (<span style=\"color: #0087ff; text-decoration-color: #0087ff\">TextVectorization</span>)             │                        │               │\n",
       "├─────────────────────────────────┼────────────────────────┼───────────────┤\n",
       "│ embedding (<span style=\"color: #0087ff; text-decoration-color: #0087ff\">Embedding</span>)           │ (<span style=\"color: #00d7ff; text-decoration-color: #00d7ff\">None</span>, <span style=\"color: #00af00; text-decoration-color: #00af00\">64</span>, <span style=\"color: #00af00; text-decoration-color: #00af00\">128</span>)        │     <span style=\"color: #00af00; text-decoration-color: #00af00\">8,786,176</span> │\n",
       "├─────────────────────────────────┼────────────────────────┼───────────────┤\n",
       "│ dropout-1 (<span style=\"color: #0087ff; text-decoration-color: #0087ff\">Dropout</span>)             │ (<span style=\"color: #00d7ff; text-decoration-color: #00d7ff\">None</span>, <span style=\"color: #00af00; text-decoration-color: #00af00\">64</span>, <span style=\"color: #00af00; text-decoration-color: #00af00\">128</span>)        │             <span style=\"color: #00af00; text-decoration-color: #00af00\">0</span> │\n",
       "├─────────────────────────────────┼────────────────────────┼───────────────┤\n",
       "│ conv-1d (<span style=\"color: #0087ff; text-decoration-color: #0087ff\">Conv1D</span>)                │ (<span style=\"color: #00d7ff; text-decoration-color: #00d7ff\">None</span>, <span style=\"color: #00af00; text-decoration-color: #00af00\">20</span>, <span style=\"color: #00af00; text-decoration-color: #00af00\">64</span>)         │        <span style=\"color: #00af00; text-decoration-color: #00af00\">41,024</span> │\n",
       "├─────────────────────────────────┼────────────────────────┼───────────────┤\n",
       "│ global-max-pooling-1d           │ (<span style=\"color: #00d7ff; text-decoration-color: #00d7ff\">None</span>, <span style=\"color: #00af00; text-decoration-color: #00af00\">64</span>)             │             <span style=\"color: #00af00; text-decoration-color: #00af00\">0</span> │\n",
       "│ (<span style=\"color: #0087ff; text-decoration-color: #0087ff\">GlobalMaxPooling1D</span>)            │                        │               │\n",
       "├─────────────────────────────────┼────────────────────────┼───────────────┤\n",
       "│ dense (<span style=\"color: #0087ff; text-decoration-color: #0087ff\">Dense</span>)                   │ (<span style=\"color: #00d7ff; text-decoration-color: #00d7ff\">None</span>, <span style=\"color: #00af00; text-decoration-color: #00af00\">32</span>)             │         <span style=\"color: #00af00; text-decoration-color: #00af00\">2,080</span> │\n",
       "├─────────────────────────────────┼────────────────────────┼───────────────┤\n",
       "│ dropout-2 (<span style=\"color: #0087ff; text-decoration-color: #0087ff\">Dropout</span>)             │ (<span style=\"color: #00d7ff; text-decoration-color: #00d7ff\">None</span>, <span style=\"color: #00af00; text-decoration-color: #00af00\">32</span>)             │             <span style=\"color: #00af00; text-decoration-color: #00af00\">0</span> │\n",
       "├─────────────────────────────────┼────────────────────────┼───────────────┤\n",
       "│ output (<span style=\"color: #0087ff; text-decoration-color: #0087ff\">Dense</span>)                  │ (<span style=\"color: #00d7ff; text-decoration-color: #00d7ff\">None</span>, <span style=\"color: #00af00; text-decoration-color: #00af00\">3</span>)              │            <span style=\"color: #00af00; text-decoration-color: #00af00\">99</span> │\n",
       "└─────────────────────────────────┴────────────────────────┴───────────────┘\n",
       "</pre>\n"
      ],
      "text/plain": [
       "┏━━━━━━━━━━━━━━━━━━━━━━━━━━━━━━━━━┳━━━━━━━━━━━━━━━━━━━━━━━━┳━━━━━━━━━━━━━━━┓\n",
       "┃\u001b[1m \u001b[0m\u001b[1mLayer (type)                   \u001b[0m\u001b[1m \u001b[0m┃\u001b[1m \u001b[0m\u001b[1mOutput Shape          \u001b[0m\u001b[1m \u001b[0m┃\u001b[1m \u001b[0m\u001b[1m      Param #\u001b[0m\u001b[1m \u001b[0m┃\n",
       "┡━━━━━━━━━━━━━━━━━━━━━━━━━━━━━━━━━╇━━━━━━━━━━━━━━━━━━━━━━━━╇━━━━━━━━━━━━━━━┩\n",
       "│ text-vectorization              │ (\u001b[38;5;45mNone\u001b[0m, \u001b[38;5;34m64\u001b[0m)             │             \u001b[38;5;34m0\u001b[0m │\n",
       "│ (\u001b[38;5;33mTextVectorization\u001b[0m)             │                        │               │\n",
       "├─────────────────────────────────┼────────────────────────┼───────────────┤\n",
       "│ embedding (\u001b[38;5;33mEmbedding\u001b[0m)           │ (\u001b[38;5;45mNone\u001b[0m, \u001b[38;5;34m64\u001b[0m, \u001b[38;5;34m128\u001b[0m)        │     \u001b[38;5;34m8,786,176\u001b[0m │\n",
       "├─────────────────────────────────┼────────────────────────┼───────────────┤\n",
       "│ dropout-1 (\u001b[38;5;33mDropout\u001b[0m)             │ (\u001b[38;5;45mNone\u001b[0m, \u001b[38;5;34m64\u001b[0m, \u001b[38;5;34m128\u001b[0m)        │             \u001b[38;5;34m0\u001b[0m │\n",
       "├─────────────────────────────────┼────────────────────────┼───────────────┤\n",
       "│ conv-1d (\u001b[38;5;33mConv1D\u001b[0m)                │ (\u001b[38;5;45mNone\u001b[0m, \u001b[38;5;34m20\u001b[0m, \u001b[38;5;34m64\u001b[0m)         │        \u001b[38;5;34m41,024\u001b[0m │\n",
       "├─────────────────────────────────┼────────────────────────┼───────────────┤\n",
       "│ global-max-pooling-1d           │ (\u001b[38;5;45mNone\u001b[0m, \u001b[38;5;34m64\u001b[0m)             │             \u001b[38;5;34m0\u001b[0m │\n",
       "│ (\u001b[38;5;33mGlobalMaxPooling1D\u001b[0m)            │                        │               │\n",
       "├─────────────────────────────────┼────────────────────────┼───────────────┤\n",
       "│ dense (\u001b[38;5;33mDense\u001b[0m)                   │ (\u001b[38;5;45mNone\u001b[0m, \u001b[38;5;34m32\u001b[0m)             │         \u001b[38;5;34m2,080\u001b[0m │\n",
       "├─────────────────────────────────┼────────────────────────┼───────────────┤\n",
       "│ dropout-2 (\u001b[38;5;33mDropout\u001b[0m)             │ (\u001b[38;5;45mNone\u001b[0m, \u001b[38;5;34m32\u001b[0m)             │             \u001b[38;5;34m0\u001b[0m │\n",
       "├─────────────────────────────────┼────────────────────────┼───────────────┤\n",
       "│ output (\u001b[38;5;33mDense\u001b[0m)                  │ (\u001b[38;5;45mNone\u001b[0m, \u001b[38;5;34m3\u001b[0m)              │            \u001b[38;5;34m99\u001b[0m │\n",
       "└─────────────────────────────────┴────────────────────────┴───────────────┘\n"
      ]
     },
     "metadata": {},
     "output_type": "display_data"
    },
    {
     "data": {
      "text/html": [
       "<pre style=\"white-space:pre;overflow-x:auto;line-height:normal;font-family:Menlo,'DejaVu Sans Mono',consolas,'Courier New',monospace\"><span style=\"font-weight: bold\"> Total params: </span><span style=\"color: #00af00; text-decoration-color: #00af00\">8,829,379</span> (33.68 MB)\n",
       "</pre>\n"
      ],
      "text/plain": [
       "\u001b[1m Total params: \u001b[0m\u001b[38;5;34m8,829,379\u001b[0m (33.68 MB)\n"
      ]
     },
     "metadata": {},
     "output_type": "display_data"
    },
    {
     "data": {
      "text/html": [
       "<pre style=\"white-space:pre;overflow-x:auto;line-height:normal;font-family:Menlo,'DejaVu Sans Mono',consolas,'Courier New',monospace\"><span style=\"font-weight: bold\"> Trainable params: </span><span style=\"color: #00af00; text-decoration-color: #00af00\">8,829,379</span> (33.68 MB)\n",
       "</pre>\n"
      ],
      "text/plain": [
       "\u001b[1m Trainable params: \u001b[0m\u001b[38;5;34m8,829,379\u001b[0m (33.68 MB)\n"
      ]
     },
     "metadata": {},
     "output_type": "display_data"
    },
    {
     "data": {
      "text/html": [
       "<pre style=\"white-space:pre;overflow-x:auto;line-height:normal;font-family:Menlo,'DejaVu Sans Mono',consolas,'Courier New',monospace\"><span style=\"font-weight: bold\"> Non-trainable params: </span><span style=\"color: #00af00; text-decoration-color: #00af00\">0</span> (0.00 B)\n",
       "</pre>\n"
      ],
      "text/plain": [
       "\u001b[1m Non-trainable params: \u001b[0m\u001b[38;5;34m0\u001b[0m (0.00 B)\n"
      ]
     },
     "metadata": {},
     "output_type": "display_data"
    }
   ],
   "source": [
    "import tensorflow as tf\n",
    "from keras import Sequential\n",
    "from keras.src.layers import Conv1D, Dense, Dropout, Embedding, InputLayer, GlobalMaxPooling1D\n",
    "\n",
    "embedding_dim = 128\n",
    "\n",
    "model = Sequential([\n",
    "    InputLayer((1,), dtype=tf.string),\n",
    "    vectorize_layer,\n",
    "    Embedding(vocab_size, embedding_dim, name=\"embedding\"),\n",
    "    Dropout(0.2, name=\"dropout-1\"),\n",
    "    Conv1D(64, 5, padding=\"valid\", activation=\"relu\", strides=3, name=\"conv-1d\"),\n",
    "    GlobalMaxPooling1D(name=\"global-max-pooling-1d\"),\n",
    "    Dense(32, activation=\"relu\", name=\"dense\"),\n",
    "    Dropout(0.2, name=\"dropout-2\"),\n",
    "    Dense(3, activation=\"softmax\", name=\"output\")\n",
    "], name=\"finance-news-sentiments-classifier\")\n",
    "\n",
    "model.summary()"
   ]
  },
  {
   "cell_type": "markdown",
   "id": "848e3c2e",
   "metadata": {
    "papermill": {
     "duration": 0.022958,
     "end_time": "2024-08-31T12:55:23.666032",
     "exception": false,
     "start_time": "2024-08-31T12:55:23.643074",
     "status": "completed"
    },
    "tags": []
   },
   "source": [
    "### Fitting"
   ]
  },
  {
   "cell_type": "code",
   "execution_count": 20,
   "id": "b8f41319",
   "metadata": {
    "ExecuteTime": {
     "end_time": "2024-08-21T16:21:14.834013Z",
     "start_time": "2024-08-21T16:21:01.162066Z"
    },
    "execution": {
     "iopub.execute_input": "2024-08-31T12:55:23.714689Z",
     "iopub.status.busy": "2024-08-31T12:55:23.713957Z",
     "iopub.status.idle": "2024-08-31T12:56:23.053874Z",
     "shell.execute_reply": "2024-08-31T12:56:23.052820Z"
    },
    "papermill": {
     "duration": 59.366567,
     "end_time": "2024-08-31T12:56:23.056067",
     "exception": false,
     "start_time": "2024-08-31T12:55:23.689500",
     "status": "completed"
    },
    "tags": []
   },
   "outputs": [
    {
     "name": "stdout",
     "output_type": "stream",
     "text": [
      "Epoch 1/10\n",
      "\u001b[1m771/771\u001b[0m \u001b[32m━━━━━━━━━━━━━━━━━━━━\u001b[0m\u001b[37m\u001b[0m \u001b[1m10s\u001b[0m 7ms/step - loss: 0.9953 - sparse_categorical_accuracy: 0.4702 - val_loss: 0.7390 - val_sparse_categorical_accuracy: 0.6721\n",
      "Epoch 2/10\n",
      "\u001b[1m771/771\u001b[0m \u001b[32m━━━━━━━━━━━━━━━━━━━━\u001b[0m\u001b[37m\u001b[0m \u001b[1m5s\u001b[0m 7ms/step - loss: 0.4754 - sparse_categorical_accuracy: 0.8136 - val_loss: 0.7772 - val_sparse_categorical_accuracy: 0.6893\n",
      "Epoch 3/10\n",
      "\u001b[1m771/771\u001b[0m \u001b[32m━━━━━━━━━━━━━━━━━━━━\u001b[0m\u001b[37m\u001b[0m \u001b[1m6s\u001b[0m 7ms/step - loss: 0.1782 - sparse_categorical_accuracy: 0.9420 - val_loss: 0.9841 - val_sparse_categorical_accuracy: 0.6715\n",
      "Epoch 4/10\n",
      "\u001b[1m771/771\u001b[0m \u001b[32m━━━━━━━━━━━━━━━━━━━━\u001b[0m\u001b[37m\u001b[0m \u001b[1m5s\u001b[0m 7ms/step - loss: 0.0898 - sparse_categorical_accuracy: 0.9729 - val_loss: 1.1736 - val_sparse_categorical_accuracy: 0.6654\n",
      "Epoch 5/10\n",
      "\u001b[1m771/771\u001b[0m \u001b[32m━━━━━━━━━━━━━━━━━━━━\u001b[0m\u001b[37m\u001b[0m \u001b[1m5s\u001b[0m 7ms/step - loss: 0.0628 - sparse_categorical_accuracy: 0.9799 - val_loss: 1.3661 - val_sparse_categorical_accuracy: 0.6607\n",
      "Epoch 6/10\n",
      "\u001b[1m771/771\u001b[0m \u001b[32m━━━━━━━━━━━━━━━━━━━━\u001b[0m\u001b[37m\u001b[0m \u001b[1m5s\u001b[0m 7ms/step - loss: 0.0444 - sparse_categorical_accuracy: 0.9830 - val_loss: 1.4194 - val_sparse_categorical_accuracy: 0.6687\n",
      "Epoch 7/10\n",
      "\u001b[1m771/771\u001b[0m \u001b[32m━━━━━━━━━━━━━━━━━━━━\u001b[0m\u001b[37m\u001b[0m \u001b[1m5s\u001b[0m 7ms/step - loss: 0.0359 - sparse_categorical_accuracy: 0.9830 - val_loss: 1.5516 - val_sparse_categorical_accuracy: 0.6689\n",
      "Epoch 8/10\n",
      "\u001b[1m771/771\u001b[0m \u001b[32m━━━━━━━━━━━━━━━━━━━━\u001b[0m\u001b[37m\u001b[0m \u001b[1m5s\u001b[0m 7ms/step - loss: 0.0318 - sparse_categorical_accuracy: 0.9859 - val_loss: 1.8835 - val_sparse_categorical_accuracy: 0.6682\n",
      "Epoch 9/10\n",
      "\u001b[1m771/771\u001b[0m \u001b[32m━━━━━━━━━━━━━━━━━━━━\u001b[0m\u001b[37m\u001b[0m \u001b[1m6s\u001b[0m 7ms/step - loss: 0.0286 - sparse_categorical_accuracy: 0.9849 - val_loss: 1.9146 - val_sparse_categorical_accuracy: 0.6671\n",
      "Epoch 10/10\n",
      "\u001b[1m771/771\u001b[0m \u001b[32m━━━━━━━━━━━━━━━━━━━━\u001b[0m\u001b[37m\u001b[0m \u001b[1m5s\u001b[0m 7ms/step - loss: 0.0268 - sparse_categorical_accuracy: 0.9841 - val_loss: 2.1167 - val_sparse_categorical_accuracy: 0.6583\n"
     ]
    }
   ],
   "source": [
    "from keras.src.callbacks import History\n",
    "\n",
    "epochs = 10\n",
    "\n",
    "model.compile(\n",
    "    loss=\"sparse_categorical_crossentropy\",\n",
    "    metrics=[\"sparse_categorical_accuracy\"],\n",
    "    optimizer=\"adam\",\n",
    ")\n",
    "\n",
    "history: History = model.fit(\n",
    "    X_train,\n",
    "    Y_train,\n",
    "    validation_data=(X_val, Y_val),\n",
    "    epochs=epochs\n",
    ")"
   ]
  },
  {
   "cell_type": "code",
   "execution_count": 21,
   "id": "e683e610",
   "metadata": {
    "ExecuteTime": {
     "end_time": "2024-08-21T16:21:15.030969Z",
     "start_time": "2024-08-21T16:21:14.848748Z"
    },
    "execution": {
     "iopub.execute_input": "2024-08-31T12:56:23.299446Z",
     "iopub.status.busy": "2024-08-31T12:56:23.299032Z",
     "iopub.status.idle": "2024-08-31T12:56:23.809833Z",
     "shell.execute_reply": "2024-08-31T12:56:23.808829Z"
    },
    "papermill": {
     "duration": 0.65847,
     "end_time": "2024-08-31T12:56:23.811949",
     "exception": false,
     "start_time": "2024-08-31T12:56:23.153479",
     "status": "completed"
    },
    "tags": []
   },
   "outputs": [
    {
     "data": {
      "image/png": "[encoded data removed]",
      "text/plain": [
       "<Figure size 640x480 with 1 Axes>"
      ]
     },
     "metadata": {},
     "output_type": "display_data"
    },
    {
     "data": {
      "image/png": "[encoded data removed]",
      "text/plain": [
       "<Figure size 640x480 with 1 Axes>"
      ]
     },
     "metadata": {},
     "output_type": "display_data"
    }
   ],
   "source": [
    "plt.plot(history.history['sparse_categorical_accuracy'])\n",
    "plt.plot(history.history['val_sparse_categorical_accuracy'])\n",
    "plt.title('Model accuracy')\n",
    "plt.ylabel('accuracy')\n",
    "plt.xlabel('epoch')\n",
    "plt.legend(['training', 'validation'], loc='upper left')\n",
    "plt.show()\n",
    "\n",
    "plt.plot(history.history['loss'])\n",
    "plt.plot(history.history['val_loss'])\n",
    "plt.title('Model loss')\n",
    "plt.ylabel('loss')\n",
    "plt.xlabel('epoch')\n",
    "plt.legend(['training', 'validation'], loc='upper left')\n",
    "plt.show()"
   ]
  },
  {
   "cell_type": "code",
   "execution_count": 22,
   "id": "942a495e",
   "metadata": {
    "execution": {
     "iopub.execute_input": "2024-08-31T12:56:24.006175Z",
     "iopub.status.busy": "2024-08-31T12:56:24.005793Z",
     "iopub.status.idle": "2024-08-31T12:56:26.006879Z",
     "shell.execute_reply": "2024-08-31T12:56:26.005861Z"
    },
    "papermill": {
     "duration": 2.100369,
     "end_time": "2024-08-31T12:56:26.008877",
     "exception": false,
     "start_time": "2024-08-31T12:56:23.908508",
     "status": "completed"
    },
    "tags": []
   },
   "outputs": [
    {
     "name": "stdout",
     "output_type": "stream",
     "text": [
      "\u001b[1m257/257\u001b[0m \u001b[32m━━━━━━━━━━━━━━━━━━━━\u001b[0m\u001b[37m\u001b[0m \u001b[1m1s\u001b[0m 3ms/step\n"
     ]
    },
    {
     "data": {
      "image/png": "[encoded data removed]",
      "text/plain": [
       "<Figure size 640x480 with 2 Axes>"
      ]
     },
     "metadata": {},
     "output_type": "display_data"
    }
   ],
   "source": [
    "# Confusion matrix\n",
    "from sklearn.metrics import confusion_matrix\n",
    "import numpy as np\n",
    "import seaborn as sns\n",
    "\n",
    "Y_pred = np.argmax(model.predict(X_val), axis=1)\n",
    "\n",
    "conf_matrix = confusion_matrix(Y_val, Y_pred)\n",
    "\n",
    "ax = sns.heatmap(conf_matrix, annot=True, fmt=\"d\")\n",
    "ax.set_xlabel(\"Predicted Sentiment\")\n",
    "ax.xaxis.set_ticklabels(['Negative', 'Neutral', 'Positive'])\n",
    "ax.set_ylabel(\"Actual Sentiment\")\n",
    "ax.yaxis.set_ticklabels(['Negative', 'Neutral', 'Positive'])\n",
    "ax.set_title(\"Confusion Matrix for the Finance News Sentiment Classifier\", fontsize=14, pad=20)\n",
    "plt.show()"
   ]
  }
 ],
 "metadata": {
  "kaggle": {
   "accelerator": "gpu",
   "dataSources": [
    {
     "datasetId": 622510,
     "sourceId": 1192499,
     "sourceType": "datasetVersion"
    },
    {
     "datasetId": 695933,
     "sourceId": 1217821,
     "sourceType": "datasetVersion"
    },
    {
     "datasetId": 1213651,
     "sourceId": 2033178,
     "sourceType": "datasetVersion"
    },
    {
     "datasetId": 1391881,
     "sourceId": 2307650,
     "sourceType": "datasetVersion"
    },
    {
     "datasetId": 5244554,
     "sourceId": 8736385,
     "sourceType": "datasetVersion"
    }
   ],
   "dockerImageVersionId": 30762,
   "isGpuEnabled": true,
   "isInternetEnabled": true,
   "language": "python",
   "sourceType": "notebook"
  },
  "kernelspec": {
   "display_name": "Python 3",
   "language": "python",
   "name": "python3"
  },
  "language_info": {
   "codemirror_mode": {
    "name": "ipython",
    "version": 3
   },
   "file_extension": ".py",
   "mimetype": "text/x-python",
   "name": "python",
   "nbconvert_exporter": "python",
   "pygments_lexer": "ipython3",
   "version": "3.10.14"
  },
  "papermill": {
   "default_parameters": {},
   "duration": 294.642023,
   "end_time": "2024-08-31T12:56:29.031015",
   "environment_variables": {},
   "exception": null,
   "input_path": "__notebook__.ipynb",
   "output_path": "__notebook__.ipynb",
   "parameters": {},
   "start_time": "2024-08-31T12:51:34.388992",
   "version": "2.6.0"
  }
 },
 "nbformat": 4,
 "nbformat_minor": 5
}
