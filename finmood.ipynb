{
 "metadata": {
  "kernelspec": {
   "display_name": "Python 3",
   "language": "python",
   "name": "python3"
  },
  "language_info": {
   "codemirror_mode": {
    "name": "ipython",
    "version": 3
   },
   "file_extension": ".py",
   "mimetype": "text/x-python",
   "name": "python",
   "nbconvert_exporter": "python",
   "pygments_lexer": "ipython3",
   "version": "3.10.14"
  },
  "kaggle": {
   "accelerator": "gpu",
   "dataSources": [
    {
     "sourceId": 9463785,
     "sourceType": "datasetVersion",
     "datasetId": 5750251
    }
   ],
   "dockerImageVersionId": 30776,
   "isInternetEnabled": true,
   "language": "python",
   "sourceType": "notebook",
   "isGpuEnabled": true
  },
  "papermill": {
   "default_parameters": {},
   "duration": 95.168735,
   "end_time": "2024-09-24T07:49:51.273013",
   "environment_variables": {},
   "exception": null,
   "input_path": "__notebook__.ipynb",
   "output_path": "__notebook__.ipynb",
   "parameters": {},
   "start_time": "2024-09-24T07:48:16.104278",
   "version": "2.6.0"
  }
 },
 "nbformat_minor": 4,
 "nbformat": 4,
 "cells": [
  {
   "cell_type": "code",
   "source": "import polars as pl\n\ndf = pl.read_csv(\"/kaggle/input/finance-news-sentiments/dataset.csv\")\ndf",
   "metadata": {
    "trusted": true,
    "execution": {
     "iopub.status.busy": "2025-03-09T23:17:01.847965Z",
     "iopub.execute_input": "2025-03-09T23:17:01.848652Z",
     "iopub.status.idle": "2025-03-09T23:17:01.868643Z",
     "shell.execute_reply.started": "2025-03-09T23:17:01.848619Z",
     "shell.execute_reply": "2025-03-09T23:17:01.867881Z"
    }
   },
   "outputs": [
    {
     "execution_count": 78,
     "output_type": "execute_result",
     "data": {
      "text/plain": "shape: (32_583, 2)\n┌───────────┬─────────────────────────────────┐\n│ sentiment ┆ text                            │\n│ ---       ┆ ---                             │\n│ str       ┆ str                             │\n╞═══════════╪═════════════════════════════════╡\n│ positive  ┆ All banks, lending institution… │\n│ neutral   ┆ Not so fast, Drake...           │\n│ positive  ┆ FNF - ong  19.43. Trailing Sto… │\n│ positive  ┆ Dow opens down almost 500 poin… │\n│ positive  ┆ U.S. weekly active oil-rig cou… │\n│ …         ┆ …                               │\n│ negative  ┆ Airbnb to lose £325m in London… │\n│ positive  ┆ Tesla surpasses 2019 goal and … │\n│ positive  ┆ Hundreds of French workers at … │\n│ neutral   ┆ Emerging-economy central banks… │\n│ positive  ┆ A judge’s porn preferences and… │\n└───────────┴─────────────────────────────────┘",
      "text/html": "<div><style>\n.dataframe > thead > tr,\n.dataframe > tbody > tr {\n  text-align: right;\n  white-space: pre-wrap;\n}\n</style>\n<small>shape: (32_583, 2)</small><table border=\"1\" class=\"dataframe\"><thead><tr><th>sentiment</th><th>text</th></tr><tr><td>str</td><td>str</td></tr></thead><tbody><tr><td>&quot;positive&quot;</td><td>&quot;All banks, lending institution…</td></tr><tr><td>&quot;neutral&quot;</td><td>&quot;Not so fast, Drake...&quot;</td></tr><tr><td>&quot;positive&quot;</td><td>&quot;FNF - ong  19.43. Trailing Sto…</td></tr><tr><td>&quot;positive&quot;</td><td>&quot;Dow opens down almost 500 poin…</td></tr><tr><td>&quot;positive&quot;</td><td>&quot;U.S. weekly active oil-rig cou…</td></tr><tr><td>&hellip;</td><td>&hellip;</td></tr><tr><td>&quot;negative&quot;</td><td>&quot;Airbnb to lose £325m in London…</td></tr><tr><td>&quot;positive&quot;</td><td>&quot;Tesla surpasses 2019 goal and …</td></tr><tr><td>&quot;positive&quot;</td><td>&quot;Hundreds of French workers at …</td></tr><tr><td>&quot;neutral&quot;</td><td>&quot;Emerging-economy central banks…</td></tr><tr><td>&quot;positive&quot;</td><td>&quot;A judge’s porn preferences and…</td></tr></tbody></table></div>"
     },
     "metadata": {}
    }
   ],
   "execution_count": 78
  },
  {
   "cell_type": "code",
   "source": "df = df.rename({\"sentiment\": \"labels\"})\ndf = df.with_columns(\n    pl.when(pl.col(\"labels\") == \"negative\").then(0)\n    .when(pl.col(\"labels\") == \"neutral\").then(1)\n    .when(pl.col(\"labels\") == \"positive\").then(2)\n    .otherwise(None)\n    .alias(\"labels\")\n)\ndf",
   "metadata": {
    "trusted": true,
    "execution": {
     "iopub.status.busy": "2025-03-09T23:17:01.870271Z",
     "iopub.execute_input": "2025-03-09T23:17:01.870842Z",
     "iopub.status.idle": "2025-03-09T23:17:01.879319Z",
     "shell.execute_reply.started": "2025-03-09T23:17:01.870804Z",
     "shell.execute_reply": "2025-03-09T23:17:01.878451Z"
    }
   },
   "outputs": [
    {
     "execution_count": 79,
     "output_type": "execute_result",
     "data": {
      "text/plain": "shape: (32_583, 2)\n┌────────┬─────────────────────────────────┐\n│ labels ┆ text                            │\n│ ---    ┆ ---                             │\n│ i32    ┆ str                             │\n╞════════╪═════════════════════════════════╡\n│ 2      ┆ All banks, lending institution… │\n│ 1      ┆ Not so fast, Drake...           │\n│ 2      ┆ FNF - ong  19.43. Trailing Sto… │\n│ 2      ┆ Dow opens down almost 500 poin… │\n│ 2      ┆ U.S. weekly active oil-rig cou… │\n│ …      ┆ …                               │\n│ 0      ┆ Airbnb to lose £325m in London… │\n│ 2      ┆ Tesla surpasses 2019 goal and … │\n│ 2      ┆ Hundreds of French workers at … │\n│ 1      ┆ Emerging-economy central banks… │\n│ 2      ┆ A judge’s porn preferences and… │\n└────────┴─────────────────────────────────┘",
      "text/html": "<div><style>\n.dataframe > thead > tr,\n.dataframe > tbody > tr {\n  text-align: right;\n  white-space: pre-wrap;\n}\n</style>\n<small>shape: (32_583, 2)</small><table border=\"1\" class=\"dataframe\"><thead><tr><th>labels</th><th>text</th></tr><tr><td>i32</td><td>str</td></tr></thead><tbody><tr><td>2</td><td>&quot;All banks, lending institution…</td></tr><tr><td>1</td><td>&quot;Not so fast, Drake...&quot;</td></tr><tr><td>2</td><td>&quot;FNF - ong  19.43. Trailing Sto…</td></tr><tr><td>2</td><td>&quot;Dow opens down almost 500 poin…</td></tr><tr><td>2</td><td>&quot;U.S. weekly active oil-rig cou…</td></tr><tr><td>&hellip;</td><td>&hellip;</td></tr><tr><td>0</td><td>&quot;Airbnb to lose £325m in London…</td></tr><tr><td>2</td><td>&quot;Tesla surpasses 2019 goal and …</td></tr><tr><td>2</td><td>&quot;Hundreds of French workers at …</td></tr><tr><td>1</td><td>&quot;Emerging-economy central banks…</td></tr><tr><td>2</td><td>&quot;A judge’s porn preferences and…</td></tr></tbody></table></div>"
     },
     "metadata": {}
    }
   ],
   "execution_count": 79
  },
  {
   "cell_type": "code",
   "source": "from datasets import Dataset\nfrom transformers import AutoTokenizer\n\ntokenizer = AutoTokenizer.from_pretrained(\"nlptown/bert-base-multilingual-uncased-sentiment\")\n\ndef tokenize_batch(batch):\n    texts = [str(text) for text in batch[\"text\"]]\n    return tokenizer(texts, padding=\"max_length\", truncation=True, max_length=128)\n\ntokenized_dataset = Dataset.from_polars(df).map(tokenize_batch, batched=True)\ntokenized_dataset",
   "metadata": {
    "trusted": true,
    "execution": {
     "iopub.status.busy": "2025-03-09T23:17:01.880311Z",
     "iopub.execute_input": "2025-03-09T23:17:01.880573Z",
     "iopub.status.idle": "2025-03-09T23:17:05.790385Z",
     "shell.execute_reply.started": "2025-03-09T23:17:01.880549Z",
     "shell.execute_reply": "2025-03-09T23:17:05.789718Z"
    }
   },
   "outputs": [
    {
     "output_type": "display_data",
     "data": {
      "text/plain": "Map:   0%|          | 0/32583 [00:00<?, ? examples/s]",
      "application/vnd.jupyter.widget-view+json": {
       "version_major": 2,
       "version_minor": 0,
       "model_id": "8595082264a04916a7eebcee73651f44"
      }
     },
     "metadata": {}
    },
    {
     "execution_count": 80,
     "output_type": "execute_result",
     "data": {
      "text/plain": "Dataset({\n    features: ['labels', 'text', 'input_ids', 'token_type_ids', 'attention_mask'],\n    num_rows: 32583\n})"
     },
     "metadata": {}
    }
   ],
   "execution_count": 80
  },
  {
   "cell_type": "code",
   "source": "from datasets import DatasetDict\n\ntrain_df = tokenized_dataset.train_test_split(test_size=0.2, seed=42)\nval_test_df = train_df[\"test\"].train_test_split(test_size=0.5, seed=42)\n\ndataset_splits = DatasetDict({\n    'train': train_df['train'],\n    'validation': val_test_df['train'],\n    'test': val_test_df['test']\n})\ndataset_splits",
   "metadata": {
    "trusted": true,
    "execution": {
     "iopub.status.busy": "2025-03-09T23:17:05.792239Z",
     "iopub.execute_input": "2025-03-09T23:17:05.792821Z",
     "iopub.status.idle": "2025-03-09T23:17:05.816761Z",
     "shell.execute_reply.started": "2025-03-09T23:17:05.792781Z",
     "shell.execute_reply": "2025-03-09T23:17:05.816038Z"
    }
   },
   "outputs": [
    {
     "execution_count": 81,
     "output_type": "execute_result",
     "data": {
      "text/plain": "DatasetDict({\n    train: Dataset({\n        features: ['labels', 'text', 'input_ids', 'token_type_ids', 'attention_mask'],\n        num_rows: 26066\n    })\n    validation: Dataset({\n        features: ['labels', 'text', 'input_ids', 'token_type_ids', 'attention_mask'],\n        num_rows: 3258\n    })\n    test: Dataset({\n        features: ['labels', 'text', 'input_ids', 'token_type_ids', 'attention_mask'],\n        num_rows: 3259\n    })\n})"
     },
     "metadata": {}
    }
   ],
   "execution_count": 81
  },
  {
   "cell_type": "code",
   "source": [
    "from transformers import BertForSequenceClassification, TrainingArguments, Trainer\n",
    "\n",
    "model = BertForSequenceClassification.from_pretrained(\n",
    "    \"nlptown/bert-base-multilingual-uncased-sentiment\",\n",
    "    num_labels=3,\n",
    "    ignore_mismatched_sizes=True\n",
    ")\n",
    "\n",
    "training_args = TrainingArguments(\n",
    "    output_dir=\"./results\",\n",
    "    eval_strategy=\"epoch\",\n",
    "    learning_rate=2e-5,\n",
    "    per_device_train_batch_size=16,\n",
    "    per_device_eval_batch_size=16,\n",
    "    num_train_epochs=3,\n",
    "    weight_decay=0.01\n",
    ")\n",
    "\n",
    "trainer = Trainer(\n",
    "    model=model,\n",
    "    args=training_args,\n",
    "    train_dataset=dataset_splits['train'],\n",
    "    eval_dataset=dataset_splits['validation'],\n",
    "    data_collator=data_collator\n",
    ")\n",
    "\n",
    "trainer.train()"
   ],
   "metadata": {
    "trusted": true,
    "execution": {
     "iopub.status.busy": "2025-03-09T23:17:05.817712Z",
     "iopub.execute_input": "2025-03-09T23:17:05.818048Z",
     "iopub.status.idle": "2025-03-09T23:35:30.930826Z",
     "shell.execute_reply.started": "2025-03-09T23:17:05.818011Z",
     "shell.execute_reply": "2025-03-09T23:35:30.930136Z"
    }
   },
   "outputs": [
    {
     "name": "stderr",
     "text": "Some weights of BertForSequenceClassification were not initialized from the model checkpoint at nlptown/bert-base-multilingual-uncased-sentiment and are newly initialized because the shapes did not match:\n- classifier.bias: found shape torch.Size([5]) in the checkpoint and torch.Size([3]) in the model instantiated\n- classifier.weight: found shape torch.Size([5, 768]) in the checkpoint and torch.Size([3, 768]) in the model instantiated\nYou should probably TRAIN this model on a down-stream task to be able to use it for predictions and inference.\n",
     "output_type": "stream"
    },
    {
     "output_type": "display_data",
     "data": {
      "text/plain": "<IPython.core.display.HTML object>",
      "text/html": "\n    <div>\n      \n      <progress value='4890' max='4890' style='width:300px; height:20px; vertical-align: middle;'></progress>\n      [4890/4890 18:21, Epoch 3/3]\n    </div>\n    <table border=\"1\" class=\"dataframe\">\n  <thead>\n <tr style=\"text-align: left;\">\n      <th>Epoch</th>\n      <th>Training Loss</th>\n      <th>Validation Loss</th>\n    </tr>\n  </thead>\n  <tbody>\n    <tr>\n      <td>1</td>\n      <td>0.683700</td>\n      <td>0.630348</td>\n    </tr>\n    <tr>\n      <td>2</td>\n      <td>0.521400</td>\n      <td>0.629911</td>\n    </tr>\n    <tr>\n      <td>3</td>\n      <td>0.385000</td>\n      <td>0.694007</td>\n    </tr>\n  </tbody>\n</table><p>"
     },
     "metadata": {}
    },
    {
     "execution_count": 82,
     "output_type": "execute_result",
     "data": {
      "text/plain": "TrainOutput(global_step=4890, training_loss=0.5545690930450377, metrics={'train_runtime': 1102.5231, 'train_samples_per_second': 70.926, 'train_steps_per_second': 4.435, 'total_flos': 5143735759873536.0, 'train_loss': 0.5545690930450377, 'epoch': 3.0})"
     },
     "metadata": {}
    }
   ],
   "execution_count": 82
  },
  {
   "cell_type": "code",
   "source": "eval_results = trainer.evaluate()\nprint(eval_results)",
   "metadata": {
    "trusted": true,
    "execution": {
     "iopub.status.busy": "2025-03-09T23:36:29.629947Z",
     "iopub.execute_input": "2025-03-09T23:36:29.630284Z",
     "iopub.status.idle": "2025-03-09T23:36:41.165062Z",
     "shell.execute_reply.started": "2025-03-09T23:36:29.630254Z",
     "shell.execute_reply": "2025-03-09T23:36:41.164233Z"
    }
   },
   "outputs": [
    {
     "output_type": "display_data",
     "data": {
      "text/plain": "<IPython.core.display.HTML object>",
      "text/html": "\n    <div>\n      \n      <progress value='204' max='204' style='width:300px; height:20px; vertical-align: middle;'></progress>\n      [204/204 00:11]\n    </div>\n    "
     },
     "metadata": {}
    },
    {
     "name": "stdout",
     "text": "{'eval_loss': 0.6940070986747742, 'eval_runtime': 11.5249, 'eval_samples_per_second': 282.693, 'eval_steps_per_second': 17.701, 'epoch': 3.0}\n",
     "output_type": "stream"
    }
   ],
   "execution_count": 84
  },
  {
   "cell_type": "code",
   "source": "from transformers import pipeline\n\nclassifier = pipeline(\"text-classification\", model=model, tokenizer=tokenizer)\n\ntexts = [\n    \"The company's quarterly earnings exceeded expectations.\",\n    \"The product received negative reviews from customers.\"\n]\n\npredictions = classifier(texts)\nfor text, pred in zip(texts, predictions):\n    print(f\"Text: {text}\\nPrediction: {pred}\\n\")",
   "metadata": {
    "trusted": true,
    "execution": {
     "iopub.status.busy": "2025-03-09T23:37:11.140158Z",
     "iopub.execute_input": "2025-03-09T23:37:11.140511Z",
     "iopub.status.idle": "2025-03-09T23:37:11.518740Z",
     "shell.execute_reply.started": "2025-03-09T23:37:11.140481Z",
     "shell.execute_reply": "2025-03-09T23:37:11.517924Z"
    }
   },
   "outputs": [
    {
     "name": "stderr",
     "text": "Hardware accelerator e.g. GPU is available in the environment, but no `device` argument is passed to the `Pipeline` object. Model will be on CPU.\n",
     "output_type": "stream"
    },
    {
     "name": "stdout",
     "text": "Text: The company's quarterly earnings exceeded expectations.\nPrediction: {'label': 'LABEL_2', 'score': 0.9782863855361938}\n\nText: The product received negative reviews from customers.\nPrediction: {'label': 'LABEL_0', 'score': 0.9852319955825806}\n\n",
     "output_type": "stream"
    }
   ],
   "execution_count": 85
  },
  {
   "cell_type": "code",
   "source": "trainer.save_model(\"/kaggle/working/model\")",
   "metadata": {
    "trusted": true,
    "execution": {
     "iopub.status.busy": "2025-03-09T23:37:47.103382Z",
     "iopub.execute_input": "2025-03-09T23:37:47.103749Z",
     "iopub.status.idle": "2025-03-09T23:37:49.293043Z",
     "shell.execute_reply.started": "2025-03-09T23:37:47.103706Z",
     "shell.execute_reply": "2025-03-09T23:37:49.292062Z"
    }
   },
   "outputs": [],
   "execution_count": 86
  }
 ]
}
